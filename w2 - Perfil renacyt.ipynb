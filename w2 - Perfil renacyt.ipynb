{
 "cells": [
  {
   "cell_type": "markdown",
   "metadata": {},
   "source": [
    "### Obtiene:\n",
    "\n",
    "1. Formación académica\n",
    "2. Artículos científicos\n",
    "3. Registro de propiedad intelectual\n",
    "4. Libros y capitulos de libros\n",
    "5. Asesorias y coasesorias\n"
   ]
  },
  {
   "cell_type": "code",
   "execution_count": 57,
   "metadata": {},
   "outputs": [],
   "source": [
    "####################################\n",
    "## A. Librerias\n",
    "####################################\n",
    "import os\n",
    "import time\n",
    "import json\n",
    "\n",
    "import datetime\n",
    "import pandas as pd\n",
    "\n",
    "from utils.utils import *\n",
    "from utils.paths import CHROMEDRIVER_PATH, PROJECT_PATH\n",
    "\n",
    "from selenium.webdriver.common.by import By\n",
    "from selenium.webdriver.support.ui import WebDriverWait\n",
    "from selenium.webdriver.support import expected_conditions as EC\n",
    "\n",
    "####################################\n",
    "## B. Funciones\n",
    "####################################\n",
    "\n",
    "def get_files(path, extension):\n",
    "    dir_name  = os.path.join(os.getcwd(), path)\n",
    "    files     = os.listdir(dir_name)\n",
    "    \n",
    "    paths    = []\n",
    "    for file in files:\n",
    "        if extension in file:\n",
    "            paths.append(os.path.join(path,file))\n",
    "\n",
    "    return paths\n",
    "\n",
    "def start_har(proxy, name):\n",
    "    options = {\n",
    "        'captureHeaders': True, \n",
    "        'captureContent': True, \n",
    "        'captureBinaryContent': True, \n",
    "        'captureCookies': True, \n",
    "        'captureHeadersSize': -1, \n",
    "        'captureMaxSize': -1, \n",
    "        'captureBinaryContentMaxLength': -1 # Tamaño máximo del contenido binario\n",
    "    }\n",
    "    proxy.new_har(name, options=options)\n",
    "\n",
    "def format_json(dir_path):\n",
    "    file_paths = get_files(dir_path, '.json')\n",
    "    \n",
    "    for file_path in file_paths:\n",
    "        # Leer el json\n",
    "        with open(file_path, 'r') as file:\n",
    "            # Leer como una lista de lineas\n",
    "            data = file.readlines()\n",
    "\n",
    "            # Se agrega el corchete al inicio y al final\n",
    "            data[0] = '[' + data[0]\n",
    "            data[-1] = data[-1] + ']'\n",
    "        \n",
    "        # Escribir el json\n",
    "        file_path = file_path.replace('1_datos_investigador', '2_datos_investigador_format')\n",
    "        with open(file_path, 'w') as file:\n",
    "            file.writelines(data)"
   ]
  },
  {
   "cell_type": "code",
   "execution_count": 58,
   "metadata": {},
   "outputs": [],
   "source": [
    "def clean_dir(dir_name):\n",
    "    try:\n",
    "        files = get_files(os.path.join(os.getcwd(),'outputs','jsons',dir_name), '.json')\n",
    "        for file in files:\n",
    "            os.remove(file)\n",
    "        print('Se eliminaron los archivos de la carpeta {}'.format(dir_name))\n",
    "    except:\n",
    "        pass\n",
    "\n",
    "# 4. Eliminar los archivos bmp.log y server.log\n",
    "def clean_logs():\n",
    "    try:\n",
    "        os.remove('bmp.log')\n",
    "        os.remove('server.log')\n",
    "        print('Se eliminaron los archivos bmp.log y server.log')\n",
    "    except:\n",
    "        pass"
   ]
  },
  {
   "cell_type": "code",
   "execution_count": 59,
   "metadata": {},
   "outputs": [
    {
     "name": "stdout",
     "output_type": "stream",
     "text": [
      "Se eliminaron los archivos de la carpeta c:\\GitHubProjets\\RenacytScraper\\originals\\renacyt\\perfil\\0_json\n"
     ]
    }
   ],
   "source": [
    "########################\n",
    "## C. Ejecución\n",
    "########################\n",
    "\n",
    "# 1. Seleccionar modo\n",
    "HEADLESS = True\n",
    "PRINT_VIEW = False\n",
    "\n",
    "# 2. Eliminar todos los archivos de la carpeta\n",
    "clean_dir(os.path.join(os.getcwd(),'originals','renacyt','perfil','0_json'))\n",
    "# clean_dir(os.path.join(os.getcwd(),'originals','renacyt','perfil','1_datos_investigador'))\n",
    "# clean_dir(os.path.join(os.getcwd(),'originals','renacyt','perfil','2_datos_investigador_format'))"
   ]
  },
  {
   "cell_type": "code",
   "execution_count": 60,
   "metadata": {},
   "outputs": [
    {
     "name": "stdout",
     "output_type": "stream",
     "text": [
      "Registros originales: 13\n",
      "Valor de max_i: 0\n",
      "Registros filtrados: 13\n"
     ]
    }
   ],
   "source": [
    "######################\n",
    "## D. Leer los jsons\n",
    "######################\n",
    "\n",
    "# 1. Leer los jsons y guardarlos en un dataframe\n",
    "df_renacyt= pd.read_parquet(os.path.join(os.getcwd(),'processed','parquet','01_lista_investigadores_renacyt.parquet'))\n",
    "df_renacyt = df_renacyt[df_renacyt['ctiVitae'].notnull()]\n",
    "df_renacyt = df_renacyt[df_renacyt['ctiVitae'] != 'nan']\n",
    "df_renacyt = df_renacyt[df_renacyt['ctiVitae'] != 'None']\n",
    "df_renacyt = df_renacyt[df_renacyt['ctiVitae'] != '']\n",
    "df_renacyt['ctiVitae'] = df_renacyt['ctiVitae'].astype(str)\n",
    "df_renacyt.drop_duplicates(subset=['ctiVitae'], inplace=True)\n",
    "df_renacyt = df_renacyt.astype(str)\n",
    "\n",
    "# 2. Seleccionar la columna ctiVitae y crear otra columna con el url + ctiVitae\n",
    "df_renacyt['url'] = 'https://ctivitae.concytec.gob.pe/buscador-ui/#/ficha/ficha-renacyt?idInvestigador=' + df_renacyt['ctiVitae']\n",
    "df_renacyt = df_renacyt[['ctiVitae','orcid','url']]\n",
    "\n",
    "df_renacyt = df_renacyt.head(4)\n",
    "print('Registros originales: ' + str(df_renacyt.shape[0]))\n",
    "\n",
    "# 3. Leer el parquet de ejecuciones\n",
    "df_ejecuciones_base = pd.read_parquet(os.path.join(os.getcwd(),'originals','ejecuciones_renacyt.parquet'))\n",
    "\n",
    "# 4. Obtener el maximo valor de i\n",
    "df_ejecuciones_base['i'] = df_ejecuciones_base['i'].astype(int)\n",
    "max_i = df_ejecuciones_base['i'].max()\n",
    "\n",
    "if pd.isna(max_i):\n",
    "    max_i = 0\n",
    "else:\n",
    "    max_i = max_i + 1\n",
    "print('Valor de max_i: ' + str(max_i))\n",
    "\n",
    "# 5. A df_renacyt['ctiVitae'] filtrar todos los df_ejecuciones_base['cti_vitae']\n",
    "df_renacyt = df_renacyt[~df_renacyt['ctiVitae'].isin(df_ejecuciones_base['cti_vitae'])]\n",
    "print('Registros filtrados: ' + str(df_renacyt.shape[0]))"
   ]
  },
  {
   "cell_type": "code",
   "execution_count": 61,
   "metadata": {},
   "outputs": [
    {
     "name": "stdout",
     "output_type": "stream",
     "text": [
      "Se inicia el servidor en Windows\n",
      "Usando el chromedriver_path: C:\\GitHubProjets\\RenacytScraper\\chromedriver\\windows\\chromedriver.exe\n"
     ]
    },
    {
     "ename": "KeyboardInterrupt",
     "evalue": "",
     "output_type": "error",
     "traceback": [
      "\u001b[1;31m---------------------------------------------------------------------------\u001b[0m",
      "\u001b[1;31mKeyboardInterrupt\u001b[0m                         Traceback (most recent call last)",
      "\u001b[1;32mc:\\GitHubProjets\\RenacytScraper\\w2 - Perfil renacyt.ipynb Celda 6\u001b[0m line \u001b[0;36m1\n\u001b[0;32m     <a href='vscode-notebook-cell:/c%3A/GitHubProjets/RenacytScraper/w2%20-%20Perfil%20renacyt.ipynb#W5sZmlsZQ%3D%3D?line=11'>12</a>\u001b[0m start_har(proxy, \u001b[39m'\u001b[39m\u001b[39mrenacyt_profile\u001b[39m\u001b[39m'\u001b[39m)\n\u001b[0;32m     <a href='vscode-notebook-cell:/c%3A/GitHubProjets/RenacytScraper/w2%20-%20Perfil%20renacyt.ipynb#W5sZmlsZQ%3D%3D?line=13'>14</a>\u001b[0m \u001b[39m# C. Ingresar a la URL y esperar a que la tabla específica esté presente en el DOM\u001b[39;00m\n\u001b[1;32m---> <a href='vscode-notebook-cell:/c%3A/GitHubProjets/RenacytScraper/w2%20-%20Perfil%20renacyt.ipynb#W5sZmlsZQ%3D%3D?line=14'>15</a>\u001b[0m driver\u001b[39m.\u001b[39;49mget(url)\n\u001b[0;32m     <a href='vscode-notebook-cell:/c%3A/GitHubProjets/RenacytScraper/w2%20-%20Perfil%20renacyt.ipynb#W5sZmlsZQ%3D%3D?line=15'>16</a>\u001b[0m wait \u001b[39m=\u001b[39m WebDriverWait(driver, \u001b[39m10\u001b[39m)\n\u001b[0;32m     <a href='vscode-notebook-cell:/c%3A/GitHubProjets/RenacytScraper/w2%20-%20Perfil%20renacyt.ipynb#W5sZmlsZQ%3D%3D?line=16'>17</a>\u001b[0m table_locator \u001b[39m=\u001b[39m (By\u001b[39m.\u001b[39mCSS_SELECTOR, \u001b[39m'\u001b[39m\u001b[39mtable.table.table-sm\u001b[39m\u001b[39m'\u001b[39m)\n",
      "File \u001b[1;32mc:\\Venv\\03_Olimpo\\lib\\site-packages\\selenium\\webdriver\\remote\\webdriver.py:355\u001b[0m, in \u001b[0;36mWebDriver.get\u001b[1;34m(self, url)\u001b[0m\n\u001b[0;32m    353\u001b[0m \u001b[39mdef\u001b[39;00m \u001b[39mget\u001b[39m(\u001b[39mself\u001b[39m, url: \u001b[39mstr\u001b[39m) \u001b[39m-\u001b[39m\u001b[39m>\u001b[39m \u001b[39mNone\u001b[39;00m:\n\u001b[0;32m    354\u001b[0m \u001b[39m    \u001b[39m\u001b[39m\"\"\"Loads a web page in the current browser session.\"\"\"\u001b[39;00m\n\u001b[1;32m--> 355\u001b[0m     \u001b[39mself\u001b[39;49m\u001b[39m.\u001b[39;49mexecute(Command\u001b[39m.\u001b[39;49mGET, {\u001b[39m\"\u001b[39;49m\u001b[39murl\u001b[39;49m\u001b[39m\"\u001b[39;49m: url})\n",
      "File \u001b[1;32mc:\\Venv\\03_Olimpo\\lib\\site-packages\\selenium\\webdriver\\remote\\webdriver.py:344\u001b[0m, in \u001b[0;36mWebDriver.execute\u001b[1;34m(self, driver_command, params)\u001b[0m\n\u001b[0;32m    341\u001b[0m     \u001b[39melif\u001b[39;00m \u001b[39m\"\u001b[39m\u001b[39msessionId\u001b[39m\u001b[39m\"\u001b[39m \u001b[39mnot\u001b[39;00m \u001b[39min\u001b[39;00m params:\n\u001b[0;32m    342\u001b[0m         params[\u001b[39m\"\u001b[39m\u001b[39msessionId\u001b[39m\u001b[39m\"\u001b[39m] \u001b[39m=\u001b[39m \u001b[39mself\u001b[39m\u001b[39m.\u001b[39msession_id\n\u001b[1;32m--> 344\u001b[0m response \u001b[39m=\u001b[39m \u001b[39mself\u001b[39;49m\u001b[39m.\u001b[39;49mcommand_executor\u001b[39m.\u001b[39;49mexecute(driver_command, params)\n\u001b[0;32m    345\u001b[0m \u001b[39mif\u001b[39;00m response:\n\u001b[0;32m    346\u001b[0m     \u001b[39mself\u001b[39m\u001b[39m.\u001b[39merror_handler\u001b[39m.\u001b[39mcheck_response(response)\n",
      "File \u001b[1;32mc:\\Venv\\03_Olimpo\\lib\\site-packages\\selenium\\webdriver\\remote\\remote_connection.py:290\u001b[0m, in \u001b[0;36mRemoteConnection.execute\u001b[1;34m(self, command, params)\u001b[0m\n\u001b[0;32m    288\u001b[0m data \u001b[39m=\u001b[39m utils\u001b[39m.\u001b[39mdump_json(params)\n\u001b[0;32m    289\u001b[0m url \u001b[39m=\u001b[39m \u001b[39mf\u001b[39m\u001b[39m\"\u001b[39m\u001b[39m{\u001b[39;00m\u001b[39mself\u001b[39m\u001b[39m.\u001b[39m_url\u001b[39m}\u001b[39;00m\u001b[39m{\u001b[39;00mpath\u001b[39m}\u001b[39;00m\u001b[39m\"\u001b[39m\n\u001b[1;32m--> 290\u001b[0m \u001b[39mreturn\u001b[39;00m \u001b[39mself\u001b[39;49m\u001b[39m.\u001b[39;49m_request(command_info[\u001b[39m0\u001b[39;49m], url, body\u001b[39m=\u001b[39;49mdata)\n",
      "File \u001b[1;32mc:\\Venv\\03_Olimpo\\lib\\site-packages\\selenium\\webdriver\\remote\\remote_connection.py:311\u001b[0m, in \u001b[0;36mRemoteConnection._request\u001b[1;34m(self, method, url, body)\u001b[0m\n\u001b[0;32m    308\u001b[0m     body \u001b[39m=\u001b[39m \u001b[39mNone\u001b[39;00m\n\u001b[0;32m    310\u001b[0m \u001b[39mif\u001b[39;00m \u001b[39mself\u001b[39m\u001b[39m.\u001b[39mkeep_alive:\n\u001b[1;32m--> 311\u001b[0m     response \u001b[39m=\u001b[39m \u001b[39mself\u001b[39;49m\u001b[39m.\u001b[39;49m_conn\u001b[39m.\u001b[39;49mrequest(method, url, body\u001b[39m=\u001b[39;49mbody, headers\u001b[39m=\u001b[39;49mheaders)\n\u001b[0;32m    312\u001b[0m     statuscode \u001b[39m=\u001b[39m response\u001b[39m.\u001b[39mstatus\n\u001b[0;32m    313\u001b[0m \u001b[39melse\u001b[39;00m:\n",
      "File \u001b[1;32mc:\\Venv\\03_Olimpo\\lib\\site-packages\\urllib3\\request.py:78\u001b[0m, in \u001b[0;36mRequestMethods.request\u001b[1;34m(self, method, url, fields, headers, **urlopen_kw)\u001b[0m\n\u001b[0;32m     74\u001b[0m     \u001b[39mreturn\u001b[39;00m \u001b[39mself\u001b[39m\u001b[39m.\u001b[39mrequest_encode_url(\n\u001b[0;32m     75\u001b[0m         method, url, fields\u001b[39m=\u001b[39mfields, headers\u001b[39m=\u001b[39mheaders, \u001b[39m*\u001b[39m\u001b[39m*\u001b[39murlopen_kw\n\u001b[0;32m     76\u001b[0m     )\n\u001b[0;32m     77\u001b[0m \u001b[39melse\u001b[39;00m:\n\u001b[1;32m---> 78\u001b[0m     \u001b[39mreturn\u001b[39;00m \u001b[39mself\u001b[39;49m\u001b[39m.\u001b[39;49mrequest_encode_body(\n\u001b[0;32m     79\u001b[0m         method, url, fields\u001b[39m=\u001b[39;49mfields, headers\u001b[39m=\u001b[39;49mheaders, \u001b[39m*\u001b[39;49m\u001b[39m*\u001b[39;49murlopen_kw\n\u001b[0;32m     80\u001b[0m     )\n",
      "File \u001b[1;32mc:\\Venv\\03_Olimpo\\lib\\site-packages\\urllib3\\request.py:170\u001b[0m, in \u001b[0;36mRequestMethods.request_encode_body\u001b[1;34m(self, method, url, fields, headers, encode_multipart, multipart_boundary, **urlopen_kw)\u001b[0m\n\u001b[0;32m    167\u001b[0m extra_kw[\u001b[39m\"\u001b[39m\u001b[39mheaders\u001b[39m\u001b[39m\"\u001b[39m]\u001b[39m.\u001b[39mupdate(headers)\n\u001b[0;32m    168\u001b[0m extra_kw\u001b[39m.\u001b[39mupdate(urlopen_kw)\n\u001b[1;32m--> 170\u001b[0m \u001b[39mreturn\u001b[39;00m \u001b[39mself\u001b[39;49m\u001b[39m.\u001b[39;49murlopen(method, url, \u001b[39m*\u001b[39;49m\u001b[39m*\u001b[39;49mextra_kw)\n",
      "File \u001b[1;32mc:\\Venv\\03_Olimpo\\lib\\site-packages\\urllib3\\poolmanager.py:376\u001b[0m, in \u001b[0;36mPoolManager.urlopen\u001b[1;34m(self, method, url, redirect, **kw)\u001b[0m\n\u001b[0;32m    374\u001b[0m     response \u001b[39m=\u001b[39m conn\u001b[39m.\u001b[39murlopen(method, url, \u001b[39m*\u001b[39m\u001b[39m*\u001b[39mkw)\n\u001b[0;32m    375\u001b[0m \u001b[39melse\u001b[39;00m:\n\u001b[1;32m--> 376\u001b[0m     response \u001b[39m=\u001b[39m conn\u001b[39m.\u001b[39;49murlopen(method, u\u001b[39m.\u001b[39;49mrequest_uri, \u001b[39m*\u001b[39;49m\u001b[39m*\u001b[39;49mkw)\n\u001b[0;32m    378\u001b[0m redirect_location \u001b[39m=\u001b[39m redirect \u001b[39mand\u001b[39;00m response\u001b[39m.\u001b[39mget_redirect_location()\n\u001b[0;32m    379\u001b[0m \u001b[39mif\u001b[39;00m \u001b[39mnot\u001b[39;00m redirect_location:\n",
      "File \u001b[1;32mc:\\Venv\\03_Olimpo\\lib\\site-packages\\urllib3\\connectionpool.py:714\u001b[0m, in \u001b[0;36mHTTPConnectionPool.urlopen\u001b[1;34m(self, method, url, body, headers, retries, redirect, assert_same_host, timeout, pool_timeout, release_conn, chunked, body_pos, **response_kw)\u001b[0m\n\u001b[0;32m    711\u001b[0m     \u001b[39mself\u001b[39m\u001b[39m.\u001b[39m_prepare_proxy(conn)\n\u001b[0;32m    713\u001b[0m \u001b[39m# Make the request on the httplib connection object.\u001b[39;00m\n\u001b[1;32m--> 714\u001b[0m httplib_response \u001b[39m=\u001b[39m \u001b[39mself\u001b[39;49m\u001b[39m.\u001b[39;49m_make_request(\n\u001b[0;32m    715\u001b[0m     conn,\n\u001b[0;32m    716\u001b[0m     method,\n\u001b[0;32m    717\u001b[0m     url,\n\u001b[0;32m    718\u001b[0m     timeout\u001b[39m=\u001b[39;49mtimeout_obj,\n\u001b[0;32m    719\u001b[0m     body\u001b[39m=\u001b[39;49mbody,\n\u001b[0;32m    720\u001b[0m     headers\u001b[39m=\u001b[39;49mheaders,\n\u001b[0;32m    721\u001b[0m     chunked\u001b[39m=\u001b[39;49mchunked,\n\u001b[0;32m    722\u001b[0m )\n\u001b[0;32m    724\u001b[0m \u001b[39m# If we're going to release the connection in ``finally:``, then\u001b[39;00m\n\u001b[0;32m    725\u001b[0m \u001b[39m# the response doesn't need to know about the connection. Otherwise\u001b[39;00m\n\u001b[0;32m    726\u001b[0m \u001b[39m# it will also try to release it and we'll have a double-release\u001b[39;00m\n\u001b[0;32m    727\u001b[0m \u001b[39m# mess.\u001b[39;00m\n\u001b[0;32m    728\u001b[0m response_conn \u001b[39m=\u001b[39m conn \u001b[39mif\u001b[39;00m \u001b[39mnot\u001b[39;00m release_conn \u001b[39melse\u001b[39;00m \u001b[39mNone\u001b[39;00m\n",
      "File \u001b[1;32mc:\\Venv\\03_Olimpo\\lib\\site-packages\\urllib3\\connectionpool.py:466\u001b[0m, in \u001b[0;36mHTTPConnectionPool._make_request\u001b[1;34m(self, conn, method, url, timeout, chunked, **httplib_request_kw)\u001b[0m\n\u001b[0;32m    461\u001b[0m             httplib_response \u001b[39m=\u001b[39m conn\u001b[39m.\u001b[39mgetresponse()\n\u001b[0;32m    462\u001b[0m         \u001b[39mexcept\u001b[39;00m \u001b[39mBaseException\u001b[39;00m \u001b[39mas\u001b[39;00m e:\n\u001b[0;32m    463\u001b[0m             \u001b[39m# Remove the TypeError from the exception chain in\u001b[39;00m\n\u001b[0;32m    464\u001b[0m             \u001b[39m# Python 3 (including for exceptions like SystemExit).\u001b[39;00m\n\u001b[0;32m    465\u001b[0m             \u001b[39m# Otherwise it looks like a bug in the code.\u001b[39;00m\n\u001b[1;32m--> 466\u001b[0m             six\u001b[39m.\u001b[39;49mraise_from(e, \u001b[39mNone\u001b[39;49;00m)\n\u001b[0;32m    467\u001b[0m \u001b[39mexcept\u001b[39;00m (SocketTimeout, BaseSSLError, SocketError) \u001b[39mas\u001b[39;00m e:\n\u001b[0;32m    468\u001b[0m     \u001b[39mself\u001b[39m\u001b[39m.\u001b[39m_raise_timeout(err\u001b[39m=\u001b[39me, url\u001b[39m=\u001b[39murl, timeout_value\u001b[39m=\u001b[39mread_timeout)\n",
      "File \u001b[1;32m<string>:3\u001b[0m, in \u001b[0;36mraise_from\u001b[1;34m(value, from_value)\u001b[0m\n",
      "File \u001b[1;32mc:\\Venv\\03_Olimpo\\lib\\site-packages\\urllib3\\connectionpool.py:461\u001b[0m, in \u001b[0;36mHTTPConnectionPool._make_request\u001b[1;34m(self, conn, method, url, timeout, chunked, **httplib_request_kw)\u001b[0m\n\u001b[0;32m    458\u001b[0m \u001b[39mexcept\u001b[39;00m \u001b[39mTypeError\u001b[39;00m:\n\u001b[0;32m    459\u001b[0m     \u001b[39m# Python 3\u001b[39;00m\n\u001b[0;32m    460\u001b[0m     \u001b[39mtry\u001b[39;00m:\n\u001b[1;32m--> 461\u001b[0m         httplib_response \u001b[39m=\u001b[39m conn\u001b[39m.\u001b[39;49mgetresponse()\n\u001b[0;32m    462\u001b[0m     \u001b[39mexcept\u001b[39;00m \u001b[39mBaseException\u001b[39;00m \u001b[39mas\u001b[39;00m e:\n\u001b[0;32m    463\u001b[0m         \u001b[39m# Remove the TypeError from the exception chain in\u001b[39;00m\n\u001b[0;32m    464\u001b[0m         \u001b[39m# Python 3 (including for exceptions like SystemExit).\u001b[39;00m\n\u001b[0;32m    465\u001b[0m         \u001b[39m# Otherwise it looks like a bug in the code.\u001b[39;00m\n\u001b[0;32m    466\u001b[0m         six\u001b[39m.\u001b[39mraise_from(e, \u001b[39mNone\u001b[39;00m)\n",
      "File \u001b[1;32m~\\AppData\\Local\\Programs\\Python\\Python38\\lib\\http\\client.py:1347\u001b[0m, in \u001b[0;36mHTTPConnection.getresponse\u001b[1;34m(self)\u001b[0m\n\u001b[0;32m   1345\u001b[0m \u001b[39mtry\u001b[39;00m:\n\u001b[0;32m   1346\u001b[0m     \u001b[39mtry\u001b[39;00m:\n\u001b[1;32m-> 1347\u001b[0m         response\u001b[39m.\u001b[39;49mbegin()\n\u001b[0;32m   1348\u001b[0m     \u001b[39mexcept\u001b[39;00m \u001b[39mConnectionError\u001b[39;00m:\n\u001b[0;32m   1349\u001b[0m         \u001b[39mself\u001b[39m\u001b[39m.\u001b[39mclose()\n",
      "File \u001b[1;32m~\\AppData\\Local\\Programs\\Python\\Python38\\lib\\http\\client.py:307\u001b[0m, in \u001b[0;36mHTTPResponse.begin\u001b[1;34m(self)\u001b[0m\n\u001b[0;32m    305\u001b[0m \u001b[39m# read until we get a non-100 response\u001b[39;00m\n\u001b[0;32m    306\u001b[0m \u001b[39mwhile\u001b[39;00m \u001b[39mTrue\u001b[39;00m:\n\u001b[1;32m--> 307\u001b[0m     version, status, reason \u001b[39m=\u001b[39m \u001b[39mself\u001b[39;49m\u001b[39m.\u001b[39;49m_read_status()\n\u001b[0;32m    308\u001b[0m     \u001b[39mif\u001b[39;00m status \u001b[39m!=\u001b[39m CONTINUE:\n\u001b[0;32m    309\u001b[0m         \u001b[39mbreak\u001b[39;00m\n",
      "File \u001b[1;32m~\\AppData\\Local\\Programs\\Python\\Python38\\lib\\http\\client.py:268\u001b[0m, in \u001b[0;36mHTTPResponse._read_status\u001b[1;34m(self)\u001b[0m\n\u001b[0;32m    267\u001b[0m \u001b[39mdef\u001b[39;00m \u001b[39m_read_status\u001b[39m(\u001b[39mself\u001b[39m):\n\u001b[1;32m--> 268\u001b[0m     line \u001b[39m=\u001b[39m \u001b[39mstr\u001b[39m(\u001b[39mself\u001b[39;49m\u001b[39m.\u001b[39;49mfp\u001b[39m.\u001b[39;49mreadline(_MAXLINE \u001b[39m+\u001b[39;49m \u001b[39m1\u001b[39;49m), \u001b[39m\"\u001b[39m\u001b[39miso-8859-1\u001b[39m\u001b[39m\"\u001b[39m)\n\u001b[0;32m    269\u001b[0m     \u001b[39mif\u001b[39;00m \u001b[39mlen\u001b[39m(line) \u001b[39m>\u001b[39m _MAXLINE:\n\u001b[0;32m    270\u001b[0m         \u001b[39mraise\u001b[39;00m LineTooLong(\u001b[39m\"\u001b[39m\u001b[39mstatus line\u001b[39m\u001b[39m\"\u001b[39m)\n",
      "File \u001b[1;32m~\\AppData\\Local\\Programs\\Python\\Python38\\lib\\socket.py:669\u001b[0m, in \u001b[0;36mSocketIO.readinto\u001b[1;34m(self, b)\u001b[0m\n\u001b[0;32m    667\u001b[0m \u001b[39mwhile\u001b[39;00m \u001b[39mTrue\u001b[39;00m:\n\u001b[0;32m    668\u001b[0m     \u001b[39mtry\u001b[39;00m:\n\u001b[1;32m--> 669\u001b[0m         \u001b[39mreturn\u001b[39;00m \u001b[39mself\u001b[39;49m\u001b[39m.\u001b[39;49m_sock\u001b[39m.\u001b[39;49mrecv_into(b)\n\u001b[0;32m    670\u001b[0m     \u001b[39mexcept\u001b[39;00m timeout:\n\u001b[0;32m    671\u001b[0m         \u001b[39mself\u001b[39m\u001b[39m.\u001b[39m_timeout_occurred \u001b[39m=\u001b[39m \u001b[39mTrue\u001b[39;00m\n",
      "\u001b[1;31mKeyboardInterrupt\u001b[0m: "
     ]
    }
   ],
   "source": [
    "######################\n",
    "## E. Ejecutar\n",
    "######################\n",
    "\n",
    "# 1. Iterar sobre las urls\n",
    "i = max_i\n",
    "for cti_vitae,orcid, url in df_renacyt.values.tolist(): \n",
    "    # A. Obtener el driver\n",
    "    driver, server, proxy = get_chrome_driver(chromedriver_path=CHROMEDRIVER_PATH, print_view=PRINT_VIEW, headless=HEADLESS)\n",
    "\n",
    "    # B. Iniciar har\n",
    "    start_har(proxy, 'renacyt_profile')\n",
    "    \n",
    "    # C. Ingresar a la URL y esperar a que la tabla específica esté presente en el DOM\n",
    "    driver.get(url)\n",
    "    wait = WebDriverWait(driver, 10)\n",
    "    table_locator = (By.CSS_SELECTOR, 'table.table.table-sm')\n",
    "    table = wait.until(EC.presence_of_element_located(table_locator))\n",
    "    print(f'{i}. {url}')\n",
    "\n",
    "    # D. Obtener el har\n",
    "    time.sleep(4)\n",
    "    har = proxy.har\n",
    "\n",
    "    # E. Guardar json original\n",
    "    j = 0\n",
    "    k = 0\n",
    "    for entrie in har.get('log').get('entries'):\n",
    "\n",
    "        # JSON original\n",
    "        data_list = str(entrie)\n",
    "        with open(os.path.join(os.getcwd(),'originals','renacyt','perfil','0_json', str(i) + 'x' + str(j) + '.json'), 'w') as json_file:\n",
    "            json.dump(data_list, json_file, indent=4)\n",
    "            j += 1\n",
    "\n",
    "        # Datos del investigador\n",
    "        string_content = entrie.get('response').get('content').get('text')\n",
    "        if '\"formacionesAcademicas\"' in str(string_content):\n",
    "            data_list = json.loads(string_content)\n",
    "            with open(os.path.join(os.getcwd(),'originals','renacyt','perfil','1_datos_investigador'\n",
    "                                    , str(i) + 'x' + str(k) \n",
    "                                    + '_' + str(cti_vitae)\n",
    "                                    + '_' + str(orcid) +'_.json'), 'w') as json_file:\n",
    "                json.dump(data_list, json_file, indent=4)\n",
    "                k += 1\n",
    "\n",
    "    # F. Finalizar driver, server, proxy y eliminar los logs\n",
    "    stop_chrome_driver(driver, server, proxy)\n",
    "    clean_dir(os.path.join(os.getcwd(),'originals','renacyt','perfil','0_json'))\n",
    "    \n",
    "    # G. Actualizar el registro de ejecuciones_renacyt\n",
    "    df_ejecuciones_base = pd.read_parquet(os.path.join(os.getcwd(),'originals','ejecuciones_renacyt.parquet'))\n",
    "    df_ejecuciones_actual = pd.concat([df_ejecuciones_base, pd.DataFrame({'i': [i], 'cti_vitae': [cti_vitae], 'orcid': [orcid]})], axis=0)\n",
    "    df_ejecuciones_actual.to_parquet(os.path.join(os.getcwd(),'originals','ejecuciones_renacyt.parquet'), index=False)\n",
    "\n",
    "    # H. Actualizar el contador\n",
    "    i += 1\n",
    "\n"
   ]
  },
  {
   "cell_type": "code",
   "execution_count": null,
   "metadata": {},
   "outputs": [],
   "source": [
    "# 2. Formatear los jsons\n",
    "format_json(os.path.join(os.getcwd(),'originals','renacyt','perfil','1_datos_investigador'))"
   ]
  },
  {
   "cell_type": "code",
   "execution_count": null,
   "metadata": {},
   "outputs": [],
   "source": [
    "# import os\n",
    "# import pandas as pd\n",
    "\n",
    "# df = pd.DataFrame(columns=['i','cti_vitae','orcid'])\n",
    "# df.to_parquet(os.path.join(os.getcwd(),'originals','ejecuciones_orcid.parquet'), index=False)\n",
    "\n",
    "# df = pd.DataFrame(columns=['i','cti_vitae','orcid'])\n",
    "# df.to_parquet(os.path.join(os.getcwd(),'originals','ejecuciones_renacyt.parquet'), index=False)"
   ]
  },
  {
   "cell_type": "code",
   "execution_count": null,
   "metadata": {},
   "outputs": [
    {
     "data": {
      "text/html": [
       "<div>\n",
       "<style scoped>\n",
       "    .dataframe tbody tr th:only-of-type {\n",
       "        vertical-align: middle;\n",
       "    }\n",
       "\n",
       "    .dataframe tbody tr th {\n",
       "        vertical-align: top;\n",
       "    }\n",
       "\n",
       "    .dataframe thead th {\n",
       "        text-align: right;\n",
       "    }\n",
       "</style>\n",
       "<table border=\"1\" class=\"dataframe\">\n",
       "  <thead>\n",
       "    <tr style=\"text-align: right;\">\n",
       "      <th></th>\n",
       "      <th>i</th>\n",
       "      <th>cti_vitae</th>\n",
       "      <th>orcid</th>\n",
       "    </tr>\n",
       "  </thead>\n",
       "  <tbody>\n",
       "  </tbody>\n",
       "</table>\n",
       "</div>"
      ],
      "text/plain": [
       "Empty DataFrame\n",
       "Columns: [i, cti_vitae, orcid]\n",
       "Index: []"
      ]
     },
     "execution_count": 55,
     "metadata": {},
     "output_type": "execute_result"
    }
   ],
   "source": [
    "pd.read_parquet(os.path.join(os.getcwd(),'originals','ejecuciones_orcid.parquet'))"
   ]
  },
  {
   "cell_type": "code",
   "execution_count": null,
   "metadata": {},
   "outputs": [
    {
     "data": {
      "text/html": [
       "<div>\n",
       "<style scoped>\n",
       "    .dataframe tbody tr th:only-of-type {\n",
       "        vertical-align: middle;\n",
       "    }\n",
       "\n",
       "    .dataframe tbody tr th {\n",
       "        vertical-align: top;\n",
       "    }\n",
       "\n",
       "    .dataframe thead th {\n",
       "        text-align: right;\n",
       "    }\n",
       "</style>\n",
       "<table border=\"1\" class=\"dataframe\">\n",
       "  <thead>\n",
       "    <tr style=\"text-align: right;\">\n",
       "      <th></th>\n",
       "      <th>i</th>\n",
       "      <th>cti_vitae</th>\n",
       "      <th>orcid</th>\n",
       "    </tr>\n",
       "  </thead>\n",
       "  <tbody>\n",
       "  </tbody>\n",
       "</table>\n",
       "</div>"
      ],
      "text/plain": [
       "Empty DataFrame\n",
       "Columns: [i, cti_vitae, orcid]\n",
       "Index: []"
      ]
     },
     "execution_count": 56,
     "metadata": {},
     "output_type": "execute_result"
    }
   ],
   "source": [
    "pd.read_parquet(os.path.join(os.getcwd(),'originals','ejecuciones_renacyt.parquet'))"
   ]
  },
  {
   "cell_type": "code",
   "execution_count": null,
   "metadata": {},
   "outputs": [],
   "source": []
  }
 ],
 "metadata": {
  "kernelspec": {
   "display_name": "my_env",
   "language": "python",
   "name": "python3"
  },
  "language_info": {
   "codemirror_mode": {
    "name": "ipython",
    "version": 3
   },
   "file_extension": ".py",
   "mimetype": "text/x-python",
   "name": "python",
   "nbconvert_exporter": "python",
   "pygments_lexer": "ipython3",
   "version": "3.8.7"
  }
 },
 "nbformat": 4,
 "nbformat_minor": 2
}
