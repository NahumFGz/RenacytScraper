{
 "cells": [
  {
   "cell_type": "markdown",
   "metadata": {},
   "source": [
    "### Obtiene:\n",
    "\n",
    "1. Formación académica\n",
    "2. Artículos científicos\n",
    "3. Registro de propiedad intelectual\n",
    "4. Libros y capitulos de libros\n",
    "5. Asesorias y coasesorias\n"
   ]
  },
  {
   "cell_type": "code",
   "execution_count": 51,
   "metadata": {},
   "outputs": [],
   "source": [
    "####################################\n",
    "## A. Librerias\n",
    "####################################\n",
    "import os\n",
    "import time\n",
    "import json\n",
    "\n",
    "import datetime\n",
    "import pandas as pd\n",
    "\n",
    "from utils.utils import *\n",
    "from utils.paths import CHROMEDRIVER_PATH, PROJECT_PATH\n",
    "\n",
    "from selenium.webdriver.common.by import By\n",
    "from selenium.webdriver.support.ui import WebDriverWait\n",
    "from selenium.webdriver.support import expected_conditions as EC\n",
    "\n",
    "####################################\n",
    "## B. Funciones\n",
    "####################################\n",
    "\n",
    "def get_files(path, extension):\n",
    "    dir_name  = os.path.join(os.getcwd(), path)\n",
    "    files     = os.listdir(dir_name)\n",
    "    \n",
    "    paths    = []\n",
    "    for file in files:\n",
    "        if extension in file:\n",
    "            paths.append(os.path.join(path,file))\n",
    "\n",
    "    return paths\n",
    "\n",
    "def start_har(proxy, name):\n",
    "    options = {\n",
    "        'captureHeaders': True, \n",
    "        'captureContent': True, \n",
    "        'captureBinaryContent': True, \n",
    "        'captureCookies': True, \n",
    "        'captureHeadersSize': -1, \n",
    "        'captureMaxSize': -1, \n",
    "        'captureBinaryContentMaxLength': -1 # Tamaño máximo del contenido binario\n",
    "    }\n",
    "    proxy.new_har(name, options=options)\n",
    "\n",
    "def format_json(dir_path):\n",
    "    file_paths = get_files(dir_path, '.json')\n",
    "    \n",
    "    for file_path in file_paths:\n",
    "        # Leer el json\n",
    "        with open(file_path, 'r') as file:\n",
    "            # Leer como una lista de lineas\n",
    "            data = file.readlines()\n",
    "\n",
    "            # Se agrega el corchete al inicio y al final\n",
    "            data[0] = '[' + data[0]\n",
    "            data[-1] = data[-1] + ']'\n",
    "        \n",
    "        # Escribir el json\n",
    "        file_path = file_path.replace('1_datos_investigador', '2_datos_investigador_format')\n",
    "        with open(file_path, 'w') as file:\n",
    "            file.writelines(data)"
   ]
  },
  {
   "cell_type": "code",
   "execution_count": 52,
   "metadata": {},
   "outputs": [],
   "source": [
    "def clean_dir(dir_name):\n",
    "    try:\n",
    "        files = get_files(os.path.join(os.getcwd(),'outputs','jsons',dir_name), '.json')\n",
    "        for file in files:\n",
    "            os.remove(file)\n",
    "        print('Se eliminaron los archivos de la carpeta {}'.format(dir_name))\n",
    "    except:\n",
    "        pass\n",
    "\n",
    "# 4. Eliminar los archivos bmp.log y server.log\n",
    "def clean_logs():\n",
    "    try:\n",
    "        os.remove('bmp.log')\n",
    "        os.remove('server.log')\n",
    "        print('Se eliminaron los archivos bmp.log y server.log')\n",
    "    except:\n",
    "        pass"
   ]
  },
  {
   "cell_type": "code",
   "execution_count": 53,
   "metadata": {},
   "outputs": [
    {
     "name": "stdout",
     "output_type": "stream",
     "text": [
      "Se eliminaron los archivos de la carpeta c:\\GitHubProjets\\RenacytScraper\\originals\\renacyt\\perfil\\0_json\n",
      "Se eliminaron los archivos de la carpeta c:\\GitHubProjets\\RenacytScraper\\originals\\renacyt\\perfil\\1_datos_investigador\n",
      "Se eliminaron los archivos de la carpeta c:\\GitHubProjets\\RenacytScraper\\originals\\renacyt\\perfil\\2_datos_investigador_format\n"
     ]
    }
   ],
   "source": [
    "########################\n",
    "## C. Ejecución\n",
    "########################\n",
    "\n",
    "# 1. Seleccionar modo\n",
    "HEADLESS = True\n",
    "PRINT_VIEW = False\n",
    "\n",
    "# 2. Eliminar todos los archivos de la carpeta\n",
    "clean_dir(os.path.join(os.getcwd(),'originals','renacyt','perfil','0_json'))\n",
    "# clean_dir(os.path.join(os.getcwd(),'originals','renacyt','perfil','1_datos_investigador'))\n",
    "# clean_dir(os.path.join(os.getcwd(),'originals','renacyt','perfil','2_datos_investigador_format'))"
   ]
  },
  {
   "cell_type": "code",
   "execution_count": 49,
   "metadata": {},
   "outputs": [
    {
     "name": "stdout",
     "output_type": "stream",
     "text": [
      "Registros originales: 13\n",
      "Valor de max_i: 10\n",
      "Registros filtrados: 3\n"
     ]
    }
   ],
   "source": [
    "######################\n",
    "## D. Leer los jsons\n",
    "######################\n",
    "\n",
    "# 1. Leer los jsons y guardarlos en un dataframe\n",
    "df_renacyt= pd.read_parquet(os.path.join(os.getcwd(),'processed','parquet','01_lista_investigadores_renacyt.parquet'))\n",
    "df_renacyt = df_renacyt[df_renacyt['ctiVitae'].notnull()]\n",
    "df_renacyt = df_renacyt[df_renacyt['ctiVitae'] != 'nan']\n",
    "df_renacyt = df_renacyt[df_renacyt['ctiVitae'] != 'None']\n",
    "df_renacyt = df_renacyt[df_renacyt['ctiVitae'] != '']\n",
    "df_renacyt['ctiVitae'] = df_renacyt['ctiVitae'].astype(str)\n",
    "df_renacyt.drop_duplicates(subset=['ctiVitae'], inplace=True)\n",
    "df_renacyt = df_renacyt.astype(str)\n",
    "\n",
    "# 2. Seleccionar la columna ctiVitae y crear otra columna con el url + ctiVitae\n",
    "df_renacyt['url'] = 'https://ctivitae.concytec.gob.pe/buscador-ui/#/ficha/ficha-renacyt?idInvestigador=' + df_renacyt['ctiVitae']\n",
    "df_renacyt = df_renacyt[['ctiVitae','orcid','url']]\n",
    "\n",
    "df_renacyt = df_renacyt.head(13)\n",
    "print('Registros originales: ' + str(df_renacyt.shape[0]))\n",
    "\n",
    "# 3. Leer el parquet de ejecuciones\n",
    "df_ejecuciones_base = pd.read_parquet(os.path.join(os.getcwd(),'originals','ejecuciones_renacyt.parquet'))\n",
    "\n",
    "# 4. Obtener el maximo valor de i\n",
    "df_ejecuciones_base['i'] = df_ejecuciones_base['i'].astype(int)\n",
    "max_i = df_ejecuciones_base['i'].max()\n",
    "\n",
    "if pd.isna(max_i):\n",
    "    max_i = 0\n",
    "else:\n",
    "    max_i = max_i + 1\n",
    "print('Valor de max_i: ' + str(max_i))\n",
    "\n",
    "# 5. A df_renacyt['ctiVitae'] filtrar todos los df_ejecuciones_base['cti_vitae']\n",
    "df_renacyt = df_renacyt[~df_renacyt['ctiVitae'].isin(df_ejecuciones_base['cti_vitae'])]\n",
    "print('Registros filtrados: ' + str(df_renacyt.shape[0]))"
   ]
  },
  {
   "cell_type": "code",
   "execution_count": 50,
   "metadata": {},
   "outputs": [
    {
     "name": "stdout",
     "output_type": "stream",
     "text": [
      "Se inicia el servidor en Windows\n",
      "Usando el chromedriver_path: C:\\GitHubProjets\\RenacytScraper\\chromedriver\\windows\\chromedriver.exe\n",
      "10. https://ctivitae.concytec.gob.pe/buscador-ui/#/ficha/ficha-renacyt?idInvestigador=48\n",
      "Se eliminaron los archivos de la carpeta c:\\GitHubProjets\\RenacytScraper\\originals\\renacyt\\perfil\\0_json\n",
      "Se inicia el servidor en Windows\n",
      "Usando el chromedriver_path: C:\\GitHubProjets\\RenacytScraper\\chromedriver\\windows\\chromedriver.exe\n",
      "11. https://ctivitae.concytec.gob.pe/buscador-ui/#/ficha/ficha-renacyt?idInvestigador=50\n",
      "Se eliminaron los archivos de la carpeta c:\\GitHubProjets\\RenacytScraper\\originals\\renacyt\\perfil\\0_json\n",
      "Se inicia el servidor en Windows\n",
      "Usando el chromedriver_path: C:\\GitHubProjets\\RenacytScraper\\chromedriver\\windows\\chromedriver.exe\n",
      "12. https://ctivitae.concytec.gob.pe/buscador-ui/#/ficha/ficha-renacyt?idInvestigador=51\n"
     ]
    },
    {
     "ename": "KeyboardInterrupt",
     "evalue": "",
     "output_type": "error",
     "traceback": [
      "\u001b[1;31m---------------------------------------------------------------------------\u001b[0m",
      "\u001b[1;31mtimeout\u001b[0m                                   Traceback (most recent call last)",
      "File \u001b[1;32m~\\AppData\\Local\\Programs\\Python\\Python38\\lib\\socket.py:796\u001b[0m, in \u001b[0;36mcreate_connection\u001b[1;34m(address, timeout, source_address)\u001b[0m\n\u001b[0;32m    795\u001b[0m     sock\u001b[39m.\u001b[39mbind(source_address)\n\u001b[1;32m--> 796\u001b[0m sock\u001b[39m.\u001b[39;49mconnect(sa)\n\u001b[0;32m    797\u001b[0m \u001b[39m# Break explicitly a reference cycle\u001b[39;00m\n",
      "\u001b[1;31mtimeout\u001b[0m: timed out",
      "\nDuring handling of the above exception, another exception occurred:\n",
      "\u001b[1;31mKeyboardInterrupt\u001b[0m                         Traceback (most recent call last)",
      "\u001b[1;32mc:\\GitHubProjets\\RenacytScraper\\w2 - Perfil renacyt.ipynb Celda 6\u001b[0m line \u001b[0;36m4\n\u001b[0;32m     <a href='vscode-notebook-cell:/c%3A/GitHubProjets/RenacytScraper/w2%20-%20Perfil%20renacyt.ipynb#W5sZmlsZQ%3D%3D?line=44'>45</a>\u001b[0m             k \u001b[39m+\u001b[39m\u001b[39m=\u001b[39m \u001b[39m1\u001b[39m\n\u001b[0;32m     <a href='vscode-notebook-cell:/c%3A/GitHubProjets/RenacytScraper/w2%20-%20Perfil%20renacyt.ipynb#W5sZmlsZQ%3D%3D?line=46'>47</a>\u001b[0m \u001b[39m# F. Finalizar driver, server, proxy y eliminar los logs\u001b[39;00m\n\u001b[1;32m---> <a href='vscode-notebook-cell:/c%3A/GitHubProjets/RenacytScraper/w2%20-%20Perfil%20renacyt.ipynb#W5sZmlsZQ%3D%3D?line=47'>48</a>\u001b[0m stop_chrome_driver(driver, server, proxy)\n\u001b[0;32m     <a href='vscode-notebook-cell:/c%3A/GitHubProjets/RenacytScraper/w2%20-%20Perfil%20renacyt.ipynb#W5sZmlsZQ%3D%3D?line=48'>49</a>\u001b[0m clean_dir(os\u001b[39m.\u001b[39mpath\u001b[39m.\u001b[39mjoin(os\u001b[39m.\u001b[39mgetcwd(),\u001b[39m'\u001b[39m\u001b[39moriginals\u001b[39m\u001b[39m'\u001b[39m,\u001b[39m'\u001b[39m\u001b[39mrenacyt\u001b[39m\u001b[39m'\u001b[39m,\u001b[39m'\u001b[39m\u001b[39mperfil\u001b[39m\u001b[39m'\u001b[39m,\u001b[39m'\u001b[39m\u001b[39m0_json\u001b[39m\u001b[39m'\u001b[39m))\n\u001b[0;32m     <a href='vscode-notebook-cell:/c%3A/GitHubProjets/RenacytScraper/w2%20-%20Perfil%20renacyt.ipynb#W5sZmlsZQ%3D%3D?line=50'>51</a>\u001b[0m \u001b[39m# G. Actualizar el registro de ejecuciones_renacyt\u001b[39;00m\n",
      "File \u001b[1;32mc:\\GitHubProjets\\RenacytScraper\\utils\\utils.py:204\u001b[0m, in \u001b[0;36mstop_chrome_driver\u001b[1;34m(driver, server, proxy)\u001b[0m\n\u001b[0;32m    203\u001b[0m \u001b[39mdef\u001b[39;00m \u001b[39mstop_chrome_driver\u001b[39m(driver, server, proxy):\n\u001b[1;32m--> 204\u001b[0m     driver\u001b[39m.\u001b[39;49mquit()\n\u001b[0;32m    205\u001b[0m     server\u001b[39m.\u001b[39mstop()\n\u001b[0;32m    206\u001b[0m     proxy\u001b[39m.\u001b[39mclose()\n",
      "File \u001b[1;32mc:\\Venv\\03_Olimpo\\lib\\site-packages\\selenium\\webdriver\\chromium\\webdriver.py:194\u001b[0m, in \u001b[0;36mChromiumDriver.quit\u001b[1;34m(self)\u001b[0m\n\u001b[0;32m    192\u001b[0m     \u001b[39mpass\u001b[39;00m\n\u001b[0;32m    193\u001b[0m \u001b[39mfinally\u001b[39;00m:\n\u001b[1;32m--> 194\u001b[0m     \u001b[39mself\u001b[39;49m\u001b[39m.\u001b[39;49mservice\u001b[39m.\u001b[39;49mstop()\n",
      "File \u001b[1;32mc:\\Venv\\03_Olimpo\\lib\\site-packages\\selenium\\webdriver\\common\\service.py:142\u001b[0m, in \u001b[0;36mService.stop\u001b[1;34m(self)\u001b[0m\n\u001b[0;32m    140\u001b[0m \u001b[39mif\u001b[39;00m \u001b[39mself\u001b[39m\u001b[39m.\u001b[39mprocess \u001b[39mis\u001b[39;00m \u001b[39mnot\u001b[39;00m \u001b[39mNone\u001b[39;00m:\n\u001b[0;32m    141\u001b[0m     \u001b[39mtry\u001b[39;00m:\n\u001b[1;32m--> 142\u001b[0m         \u001b[39mself\u001b[39;49m\u001b[39m.\u001b[39;49msend_remote_shutdown_command()\n\u001b[0;32m    143\u001b[0m     \u001b[39mexcept\u001b[39;00m \u001b[39mTypeError\u001b[39;00m:\n\u001b[0;32m    144\u001b[0m         \u001b[39mpass\u001b[39;00m\n",
      "File \u001b[1;32mc:\\Venv\\03_Olimpo\\lib\\site-packages\\selenium\\webdriver\\common\\service.py:126\u001b[0m, in \u001b[0;36mService.send_remote_shutdown_command\u001b[1;34m(self)\u001b[0m\n\u001b[0;32m    123\u001b[0m     \u001b[39mreturn\u001b[39;00m\n\u001b[0;32m    125\u001b[0m \u001b[39mfor\u001b[39;00m _ \u001b[39min\u001b[39;00m \u001b[39mrange\u001b[39m(\u001b[39m30\u001b[39m):\n\u001b[1;32m--> 126\u001b[0m     \u001b[39mif\u001b[39;00m \u001b[39mnot\u001b[39;00m \u001b[39mself\u001b[39;49m\u001b[39m.\u001b[39;49mis_connectable():\n\u001b[0;32m    127\u001b[0m         \u001b[39mbreak\u001b[39;00m\n\u001b[0;32m    128\u001b[0m     sleep(\u001b[39m1\u001b[39m)\n",
      "File \u001b[1;32mc:\\Venv\\03_Olimpo\\lib\\site-packages\\selenium\\webdriver\\common\\service.py:115\u001b[0m, in \u001b[0;36mService.is_connectable\u001b[1;34m(self)\u001b[0m\n\u001b[0;32m    112\u001b[0m \u001b[39mdef\u001b[39;00m \u001b[39mis_connectable\u001b[39m(\u001b[39mself\u001b[39m) \u001b[39m-\u001b[39m\u001b[39m>\u001b[39m \u001b[39mbool\u001b[39m:\n\u001b[0;32m    113\u001b[0m \u001b[39m    \u001b[39m\u001b[39m\"\"\"Establishes a socket connection to determine if the service running\u001b[39;00m\n\u001b[0;32m    114\u001b[0m \u001b[39m    on the port is accessible.\"\"\"\u001b[39;00m\n\u001b[1;32m--> 115\u001b[0m     \u001b[39mreturn\u001b[39;00m utils\u001b[39m.\u001b[39;49mis_connectable(\u001b[39mself\u001b[39;49m\u001b[39m.\u001b[39;49mport)\n",
      "File \u001b[1;32mc:\\Venv\\03_Olimpo\\lib\\site-packages\\selenium\\webdriver\\common\\utils.py:102\u001b[0m, in \u001b[0;36mis_connectable\u001b[1;34m(port, host)\u001b[0m\n\u001b[0;32m    100\u001b[0m socket_ \u001b[39m=\u001b[39m \u001b[39mNone\u001b[39;00m\n\u001b[0;32m    101\u001b[0m \u001b[39mtry\u001b[39;00m:\n\u001b[1;32m--> 102\u001b[0m     socket_ \u001b[39m=\u001b[39m socket\u001b[39m.\u001b[39;49mcreate_connection((host, port), \u001b[39m1\u001b[39;49m)\n\u001b[0;32m    103\u001b[0m     result \u001b[39m=\u001b[39m \u001b[39mTrue\u001b[39;00m\n\u001b[0;32m    104\u001b[0m \u001b[39mexcept\u001b[39;00m _is_connectable_exceptions:\n",
      "File \u001b[1;32m~\\AppData\\Local\\Programs\\Python\\Python38\\lib\\socket.py:796\u001b[0m, in \u001b[0;36mcreate_connection\u001b[1;34m(address, timeout, source_address)\u001b[0m\n\u001b[0;32m    794\u001b[0m \u001b[39mif\u001b[39;00m source_address:\n\u001b[0;32m    795\u001b[0m     sock\u001b[39m.\u001b[39mbind(source_address)\n\u001b[1;32m--> 796\u001b[0m sock\u001b[39m.\u001b[39;49mconnect(sa)\n\u001b[0;32m    797\u001b[0m \u001b[39m# Break explicitly a reference cycle\u001b[39;00m\n\u001b[0;32m    798\u001b[0m err \u001b[39m=\u001b[39m \u001b[39mNone\u001b[39;00m\n",
      "\u001b[1;31mKeyboardInterrupt\u001b[0m: "
     ]
    }
   ],
   "source": [
    "######################\n",
    "## E. Ejecutar\n",
    "######################\n",
    "\n",
    "# 1. Iterar sobre las urls\n",
    "i = max_i\n",
    "for cti_vitae,orcid, url in df_renacyt.values.tolist(): \n",
    "    # A. Obtener el driver\n",
    "    driver, server, proxy = get_chrome_driver(chromedriver_path=CHROMEDRIVER_PATH, print_view=PRINT_VIEW, headless=HEADLESS)\n",
    "\n",
    "    # B. Iniciar har\n",
    "    start_har(proxy, 'renacyt_profile')\n",
    "    \n",
    "    # C. Ingresar a la URL y esperar a que la tabla específica esté presente en el DOM\n",
    "    driver.get(url)\n",
    "    wait = WebDriverWait(driver, 10)\n",
    "    table_locator = (By.CSS_SELECTOR, 'table.table.table-sm')\n",
    "    table = wait.until(EC.presence_of_element_located(table_locator))\n",
    "    print(f'{i}. {url}')\n",
    "\n",
    "    # D. Obtener el har\n",
    "    time.sleep(4)\n",
    "    har = proxy.har\n",
    "\n",
    "    # E. Guardar json original\n",
    "    j = 0\n",
    "    k = 0\n",
    "    for entrie in har.get('log').get('entries'):\n",
    "\n",
    "        # JSON original\n",
    "        data_list = str(entrie)\n",
    "        with open(os.path.join(os.getcwd(),'originals','renacyt','perfil','0_json', str(i) + 'x' + str(j) + '.json'), 'w') as json_file:\n",
    "            json.dump(data_list, json_file, indent=4)\n",
    "            j += 1\n",
    "\n",
    "        # Datos del investigador\n",
    "        string_content = entrie.get('response').get('content').get('text')\n",
    "        if '\"formacionesAcademicas\"' in str(string_content):\n",
    "            data_list = json.loads(string_content)\n",
    "            with open(os.path.join(os.getcwd(),'originals','renacyt','perfil','1_datos_investigador'\n",
    "                                    , str(i) + 'x' + str(k) \n",
    "                                    + '_' + str(cti_vitae)\n",
    "                                    + '_' + str(orcid) +'_.json'), 'w') as json_file:\n",
    "                json.dump(data_list, json_file, indent=4)\n",
    "                k += 1\n",
    "\n",
    "    # F. Finalizar driver, server, proxy y eliminar los logs\n",
    "    stop_chrome_driver(driver, server, proxy)\n",
    "    clean_dir(os.path.join(os.getcwd(),'originals','renacyt','perfil','0_json'))\n",
    "    \n",
    "    # G. Actualizar el registro de ejecuciones_renacyt\n",
    "    df_ejecuciones_base = pd.read_parquet(os.path.join(os.getcwd(),'originals','ejecuciones_renacyt.parquet'))\n",
    "    df_ejecuciones_actual = pd.concat([df_ejecuciones_base, pd.DataFrame({'i': [i], 'cti_vitae': [cti_vitae], 'orcid': [orcid]})], axis=0)\n",
    "    df_ejecuciones_actual.to_parquet(os.path.join(os.getcwd(),'originals','ejecuciones_renacyt.parquet'), index=False)\n",
    "\n",
    "    # H. Actualizar el contador\n",
    "    i += 1\n",
    "\n"
   ]
  },
  {
   "cell_type": "code",
   "execution_count": null,
   "metadata": {},
   "outputs": [],
   "source": [
    "# 2. Formatear los jsons\n",
    "format_json(os.path.join(os.getcwd(),'originals','renacyt','perfil','1_datos_investigador'))"
   ]
  },
  {
   "cell_type": "code",
   "execution_count": 54,
   "metadata": {},
   "outputs": [],
   "source": [
    "# import os\n",
    "# import pandas as pd\n",
    "\n",
    "# df = pd.DataFrame(columns=['i','cti_vitae','orcid'])\n",
    "# df.to_parquet(os.path.join(os.getcwd(),'originals','ejecuciones_orcid.parquet'), index=False)\n",
    "\n",
    "# df = pd.DataFrame(columns=['i','cti_vitae','orcid'])\n",
    "# df.to_parquet(os.path.join(os.getcwd(),'originals','ejecuciones_renacyt.parquet'), index=False)"
   ]
  },
  {
   "cell_type": "code",
   "execution_count": 55,
   "metadata": {},
   "outputs": [
    {
     "data": {
      "text/html": [
       "<div>\n",
       "<style scoped>\n",
       "    .dataframe tbody tr th:only-of-type {\n",
       "        vertical-align: middle;\n",
       "    }\n",
       "\n",
       "    .dataframe tbody tr th {\n",
       "        vertical-align: top;\n",
       "    }\n",
       "\n",
       "    .dataframe thead th {\n",
       "        text-align: right;\n",
       "    }\n",
       "</style>\n",
       "<table border=\"1\" class=\"dataframe\">\n",
       "  <thead>\n",
       "    <tr style=\"text-align: right;\">\n",
       "      <th></th>\n",
       "      <th>i</th>\n",
       "      <th>cti_vitae</th>\n",
       "      <th>orcid</th>\n",
       "    </tr>\n",
       "  </thead>\n",
       "  <tbody>\n",
       "  </tbody>\n",
       "</table>\n",
       "</div>"
      ],
      "text/plain": [
       "Empty DataFrame\n",
       "Columns: [i, cti_vitae, orcid]\n",
       "Index: []"
      ]
     },
     "execution_count": 55,
     "metadata": {},
     "output_type": "execute_result"
    }
   ],
   "source": [
    "pd.read_parquet(os.path.join(os.getcwd(),'originals','ejecuciones_orcid.parquet'))"
   ]
  },
  {
   "cell_type": "code",
   "execution_count": 56,
   "metadata": {},
   "outputs": [
    {
     "data": {
      "text/html": [
       "<div>\n",
       "<style scoped>\n",
       "    .dataframe tbody tr th:only-of-type {\n",
       "        vertical-align: middle;\n",
       "    }\n",
       "\n",
       "    .dataframe tbody tr th {\n",
       "        vertical-align: top;\n",
       "    }\n",
       "\n",
       "    .dataframe thead th {\n",
       "        text-align: right;\n",
       "    }\n",
       "</style>\n",
       "<table border=\"1\" class=\"dataframe\">\n",
       "  <thead>\n",
       "    <tr style=\"text-align: right;\">\n",
       "      <th></th>\n",
       "      <th>i</th>\n",
       "      <th>cti_vitae</th>\n",
       "      <th>orcid</th>\n",
       "    </tr>\n",
       "  </thead>\n",
       "  <tbody>\n",
       "  </tbody>\n",
       "</table>\n",
       "</div>"
      ],
      "text/plain": [
       "Empty DataFrame\n",
       "Columns: [i, cti_vitae, orcid]\n",
       "Index: []"
      ]
     },
     "execution_count": 56,
     "metadata": {},
     "output_type": "execute_result"
    }
   ],
   "source": [
    "pd.read_parquet(os.path.join(os.getcwd(),'originals','ejecuciones_renacyt.parquet'))"
   ]
  },
  {
   "cell_type": "code",
   "execution_count": null,
   "metadata": {},
   "outputs": [],
   "source": []
  }
 ],
 "metadata": {
  "kernelspec": {
   "display_name": "my_env",
   "language": "python",
   "name": "python3"
  },
  "language_info": {
   "codemirror_mode": {
    "name": "ipython",
    "version": 3
   },
   "file_extension": ".py",
   "mimetype": "text/x-python",
   "name": "python",
   "nbconvert_exporter": "python",
   "pygments_lexer": "ipython3",
   "version": "3.8.7"
  }
 },
 "nbformat": 4,
 "nbformat_minor": 2
}
