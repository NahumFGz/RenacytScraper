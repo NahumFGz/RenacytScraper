{
 "cells": [
  {
   "cell_type": "code",
   "execution_count": 10,
   "metadata": {},
   "outputs": [],
   "source": [
    "####################################\n",
    "## A. Librerias\n",
    "####################################\n",
    "import os\n",
    "import time\n",
    "import json\n",
    "\n",
    "import datetime\n",
    "import pandas as pd\n",
    "\n",
    "from utils.utils import *\n",
    "from utils.paths import CHROMEDRIVER_PATH, PROJECT_PATH\n",
    "\n",
    "from selenium.webdriver.common.by import By\n",
    "from selenium.webdriver.support.ui import WebDriverWait\n",
    "from selenium.webdriver.support import expected_conditions as EC\n",
    "\n",
    "####################################\n",
    "## B. Funciones\n",
    "####################################\n",
    "\n",
    "def get_files(path, extension):\n",
    "    dir_name  = os.path.join(os.getcwd(), path)\n",
    "    files     = os.listdir(dir_name)\n",
    "    \n",
    "    paths    = []\n",
    "    for file in files:\n",
    "        if extension in file:\n",
    "            paths.append(os.path.join(path,file))\n",
    "\n",
    "    return paths\n",
    "\n",
    "def start_har(proxy, name):\n",
    "    options = {\n",
    "        'captureHeaders': True, \n",
    "        'captureContent': True, \n",
    "        'captureBinaryContent': True, \n",
    "        'captureCookies': True, \n",
    "        'captureHeadersSize': -1, \n",
    "        'captureMaxSize': -1, \n",
    "        'captureBinaryContentMaxLength': -1 # Tamaño máximo del contenido binario\n",
    "    }\n",
    "    proxy.new_har(name, options=options)"
   ]
  },
  {
   "cell_type": "code",
   "execution_count": 11,
   "metadata": {},
   "outputs": [
    {
     "name": "stdout",
     "output_type": "stream",
     "text": [
      "Se eliminaron los archivos de la carpeta\n"
     ]
    }
   ],
   "source": [
    "########################\n",
    "## C. Ejecución\n",
    "########################\n",
    "\n",
    "# 1. Seleccionar modo\n",
    "HEADLESS = True\n",
    "PRINT_VIEW = False\n",
    "\n",
    "# 2. Eliminar todos los archivos de la carpeta\n",
    "try:\n",
    "    files = get_files(os.path.join(os.getcwd(),'outputs','jsons','renacyt_profile'), '.')\n",
    "    for file in files:\n",
    "        os.remove(file)\n",
    "    print('Se eliminaron los archivos de la carpeta')\n",
    "except:\n",
    "    pass"
   ]
  },
  {
   "cell_type": "code",
   "execution_count": 12,
   "metadata": {},
   "outputs": [
    {
     "name": "stdout",
     "output_type": "stream",
     "text": [
      "Se generaron 7151 urls\n"
     ]
    },
    {
     "data": {
      "text/plain": [
       "['https://servicio-renacyt.concytec.gob.pe/ficha-renacyt/?idInvestigador=10',\n",
       " 'https://servicio-renacyt.concytec.gob.pe/ficha-renacyt/?idInvestigador=13',\n",
       " 'https://servicio-renacyt.concytec.gob.pe/ficha-renacyt/?idInvestigador=16',\n",
       " 'https://servicio-renacyt.concytec.gob.pe/ficha-renacyt/?idInvestigador=17',\n",
       " 'https://servicio-renacyt.concytec.gob.pe/ficha-renacyt/?idInvestigador=19',\n",
       " 'https://servicio-renacyt.concytec.gob.pe/ficha-renacyt/?idInvestigador=21',\n",
       " 'https://servicio-renacyt.concytec.gob.pe/ficha-renacyt/?idInvestigador=25',\n",
       " 'https://servicio-renacyt.concytec.gob.pe/ficha-renacyt/?idInvestigador=26',\n",
       " 'https://servicio-renacyt.concytec.gob.pe/ficha-renacyt/?idInvestigador=34',\n",
       " 'https://servicio-renacyt.concytec.gob.pe/ficha-renacyt/?idInvestigador=43']"
      ]
     },
     "execution_count": 12,
     "metadata": {},
     "output_type": "execute_result"
    }
   ],
   "source": [
    "######################\n",
    "## D. Leer los jsons\n",
    "######################\n",
    "\n",
    "# 1. Leer los jsons y guardarlos en un dataframe\n",
    "df_renacyt= pd.read_parquet(os.path.join(os.getcwd(),'outputs','parquets','renacyt.parquet'))\n",
    "\n",
    "# 2. Generar lista de urls a partir de ['ctiVitae']\n",
    "urls = []\n",
    "cti_vitaes = df_renacyt['ctiVitae'].tolist()\n",
    "for cit_vitae in cti_vitaes:\n",
    "    url = f'https://servicio-renacyt.concytec.gob.pe/ficha-renacyt/?idInvestigador={cit_vitae}'\n",
    "    urls.append(url)\n",
    "\n",
    "#urls = list(set(urls))\n",
    "print(f'Se generaron {len(urls)} urls')\n",
    "\n",
    "urls = urls[0:10]\n",
    "urls"
   ]
  },
  {
   "cell_type": "code",
   "execution_count": 13,
   "metadata": {},
   "outputs": [
    {
     "name": "stdout",
     "output_type": "stream",
     "text": [
      "Se inicia el servidor en Mac o Linux\n",
      "Usando el chromedriver_path: /Users/nahumfg/Projects/GitHubProjects/RenacytScraper/chromedriver/darwin/chromedriver\n",
      "1. https://servicio-renacyt.concytec.gob.pe/ficha-renacyt/?idInvestigador=10\n",
      "2. https://servicio-renacyt.concytec.gob.pe/ficha-renacyt/?idInvestigador=13\n",
      "3. https://servicio-renacyt.concytec.gob.pe/ficha-renacyt/?idInvestigador=16\n",
      "4. https://servicio-renacyt.concytec.gob.pe/ficha-renacyt/?idInvestigador=17\n",
      "5. https://servicio-renacyt.concytec.gob.pe/ficha-renacyt/?idInvestigador=19\n",
      "6. https://servicio-renacyt.concytec.gob.pe/ficha-renacyt/?idInvestigador=21\n",
      "7. https://servicio-renacyt.concytec.gob.pe/ficha-renacyt/?idInvestigador=25\n",
      "8. https://servicio-renacyt.concytec.gob.pe/ficha-renacyt/?idInvestigador=26\n",
      "9. https://servicio-renacyt.concytec.gob.pe/ficha-renacyt/?idInvestigador=34\n",
      "10. https://servicio-renacyt.concytec.gob.pe/ficha-renacyt/?idInvestigador=43\n"
     ]
    }
   ],
   "source": [
    "######################\n",
    "## E. Ejecutar\n",
    "######################\n",
    "\n",
    "# 1. Iniciar el driver, el servidor proxy y el proxy\n",
    "driver, server, proxy = get_chrome_driver(chromedriver_path=CHROMEDRIVER_PATH, print_view=PRINT_VIEW, headless=HEADLESS)\n",
    "\n",
    "# 2. Iterar sobre las urls\n",
    "i = 0\n",
    "for url in urls: \n",
    "    try:\n",
    "        # A. Iniciar har\n",
    "        start_har(proxy, 'renacyt_profile')\n",
    "        \n",
    "        # B. Ingresar a la url\n",
    "        driver.get(url)\n",
    "        wait = WebDriverWait(driver, 10)\n",
    "        wait.until(EC.presence_of_element_located((By.CLASS_NAME, \"elementor-widget-container\")))\n",
    "        print(f'{i+1}. {url}')\n",
    "\n",
    "        # C. Obtener el har\n",
    "        time.sleep(3)\n",
    "        har = proxy.har\n",
    "\n",
    "        # D. Guardar el har\n",
    "        for entrie in har.get('log').get('entries'):\n",
    "            if '\"formacionesAcademicas\"' in str(entrie):\n",
    "                string_content = entrie.get('response').get('content').get('text')\n",
    "                data_list = json.loads(string_content)\n",
    "                with open(os.path.join(os.getcwd(),'outputs','jsons','renacyt_profile','profile_' + str(i).zfill(2) + '_data.json'), 'w') as json_file:\n",
    "                    json.dump(data_list, json_file, indent=4)\n",
    "                \n",
    "        # E. Actualizar el contador\n",
    "        i += 1\n",
    "    except:\n",
    "        pass"
   ]
  },
  {
   "cell_type": "code",
   "execution_count": 17,
   "metadata": {},
   "outputs": [
    {
     "name": "stdout",
     "output_type": "stream",
     "text": [
      "Se eliminaron los archivos bmp.log y server.log\n"
     ]
    }
   ],
   "source": [
    "stop_chrome_driver(driver, server, proxy)\n",
    "\n",
    "# Eliminar los archivos bmp.log y server.log\n",
    "try:\n",
    "    os.remove('bmp.log')\n",
    "    os.remove('server.log')\n",
    "    print(\"Se eliminaron los archivos bmp.log y server.log\")\n",
    "except:\n",
    "    pass"
   ]
  }
 ],
 "metadata": {
  "kernelspec": {
   "display_name": "my_env",
   "language": "python",
   "name": "python3"
  },
  "language_info": {
   "codemirror_mode": {
    "name": "ipython",
    "version": 3
   },
   "file_extension": ".py",
   "mimetype": "text/x-python",
   "name": "python",
   "nbconvert_exporter": "python",
   "pygments_lexer": "ipython3",
   "version": "3.9.6"
  }
 },
 "nbformat": 4,
 "nbformat_minor": 2
}
