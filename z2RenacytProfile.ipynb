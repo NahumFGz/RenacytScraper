{
 "cells": [
  {
   "cell_type": "code",
   "execution_count": 1,
   "metadata": {},
   "outputs": [
    {
     "name": "stdout",
     "output_type": "stream",
     "text": [
      "ESTAMOS EN --->  darwin\n",
      "PROJECT_PATH:  /Users/nahumfg/Projects/GitHubProjects/RenacytScraper\n",
      "CHROME_DRIVER_PATH:  /Users/nahumfg/Projects/GitHubProjects/RenacytScraper/chromedriver/darwin/chromedriver\n",
      "\n"
     ]
    }
   ],
   "source": [
    "####################################\n",
    "## A. Librerias\n",
    "####################################\n",
    "import os\n",
    "import time\n",
    "import json\n",
    "\n",
    "import datetime\n",
    "import pandas as pd\n",
    "\n",
    "from utils.utils import *\n",
    "from utils.paths import CHROMEDRIVER_PATH, PROJECT_PATH\n",
    "\n",
    "from selenium.webdriver.common.by import By\n",
    "from selenium.webdriver.support.ui import WebDriverWait\n",
    "from selenium.webdriver.support import expected_conditions as EC\n",
    "\n",
    "####################################\n",
    "## B. Funciones\n",
    "####################################\n",
    "\n",
    "def get_files(path, extension):\n",
    "    dir_name  = os.path.join(os.getcwd(), path)\n",
    "    files     = os.listdir(dir_name)\n",
    "    \n",
    "    paths    = []\n",
    "    for file in files:\n",
    "        if extension in file:\n",
    "            paths.append(os.path.join(path,file))\n",
    "\n",
    "    return paths\n",
    "\n",
    "def start_har(proxy, name):\n",
    "    options = {\n",
    "        'captureHeaders': True, \n",
    "        'captureContent': True, \n",
    "        'captureBinaryContent': True, \n",
    "        'captureCookies': True, \n",
    "        'captureHeadersSize': -1, \n",
    "        'captureMaxSize': -1, \n",
    "        'captureBinaryContentMaxLength': -1 # Tamaño máximo del contenido binario\n",
    "    }\n",
    "    proxy.new_har(name, options=options)"
   ]
  },
  {
   "cell_type": "code",
   "execution_count": 2,
   "metadata": {},
   "outputs": [
    {
     "name": "stdout",
     "output_type": "stream",
     "text": [
      "Se eliminaron los archivos de la carpeta\n"
     ]
    }
   ],
   "source": [
    "########################\n",
    "## C. Ejecución\n",
    "########################\n",
    "\n",
    "# 1. Seleccionar modo\n",
    "HEADLESS = True\n",
    "PRINT_VIEW = False\n",
    "\n",
    "# 2. Eliminar todos los archivos de la carpeta\n",
    "try:\n",
    "    files = get_files(os.path.join(os.getcwd(),'outputs','jsons','renacyt_profile'), '.')\n",
    "    for file in files:\n",
    "        os.remove(file)\n",
    "    print('Se eliminaron los archivos de la carpeta')\n",
    "except:\n",
    "    pass"
   ]
  },
  {
   "cell_type": "code",
   "execution_count": 3,
   "metadata": {},
   "outputs": [
    {
     "data": {
      "text/html": [
       "<div>\n",
       "<style scoped>\n",
       "    .dataframe tbody tr th:only-of-type {\n",
       "        vertical-align: middle;\n",
       "    }\n",
       "\n",
       "    .dataframe tbody tr th {\n",
       "        vertical-align: top;\n",
       "    }\n",
       "\n",
       "    .dataframe thead th {\n",
       "        text-align: right;\n",
       "    }\n",
       "</style>\n",
       "<table border=\"1\" class=\"dataframe\">\n",
       "  <thead>\n",
       "    <tr style=\"text-align: right;\">\n",
       "      <th></th>\n",
       "      <th>orcid</th>\n",
       "      <th>url</th>\n",
       "    </tr>\n",
       "  </thead>\n",
       "  <tbody>\n",
       "    <tr>\n",
       "      <th>738</th>\n",
       "      <td>0000-0003-1583-7113</td>\n",
       "      <td>https://servicio-renacyt.concytec.gob.pe/ficha...</td>\n",
       "    </tr>\n",
       "    <tr>\n",
       "      <th>5797</th>\n",
       "      <td>None</td>\n",
       "      <td>https://servicio-renacyt.concytec.gob.pe/ficha...</td>\n",
       "    </tr>\n",
       "    <tr>\n",
       "      <th>5749</th>\n",
       "      <td>0000-0001-9740-5490</td>\n",
       "      <td>https://servicio-renacyt.concytec.gob.pe/ficha...</td>\n",
       "    </tr>\n",
       "    <tr>\n",
       "      <th>3308</th>\n",
       "      <td>0000-0002-8301-5536</td>\n",
       "      <td>https://servicio-renacyt.concytec.gob.pe/ficha...</td>\n",
       "    </tr>\n",
       "    <tr>\n",
       "      <th>6842</th>\n",
       "      <td>0000-0002-8207-9714</td>\n",
       "      <td>https://servicio-renacyt.concytec.gob.pe/ficha...</td>\n",
       "    </tr>\n",
       "    <tr>\n",
       "      <th>4765</th>\n",
       "      <td>0000-0002-9695-5746</td>\n",
       "      <td>https://servicio-renacyt.concytec.gob.pe/ficha...</td>\n",
       "    </tr>\n",
       "    <tr>\n",
       "      <th>5968</th>\n",
       "      <td>0000-0003-3338-2503</td>\n",
       "      <td>https://servicio-renacyt.concytec.gob.pe/ficha...</td>\n",
       "    </tr>\n",
       "    <tr>\n",
       "      <th>5004</th>\n",
       "      <td>0000-0003-2259-5327</td>\n",
       "      <td>https://servicio-renacyt.concytec.gob.pe/ficha...</td>\n",
       "    </tr>\n",
       "    <tr>\n",
       "      <th>7204</th>\n",
       "      <td>0000-0002-8069-2101</td>\n",
       "      <td>https://servicio-renacyt.concytec.gob.pe/ficha...</td>\n",
       "    </tr>\n",
       "    <tr>\n",
       "      <th>5917</th>\n",
       "      <td>0000-0001-5560-9241</td>\n",
       "      <td>https://servicio-renacyt.concytec.gob.pe/ficha...</td>\n",
       "    </tr>\n",
       "  </tbody>\n",
       "</table>\n",
       "</div>"
      ],
      "text/plain": [
       "                    orcid                                                url\n",
       "738   0000-0003-1583-7113  https://servicio-renacyt.concytec.gob.pe/ficha...\n",
       "5797                 None  https://servicio-renacyt.concytec.gob.pe/ficha...\n",
       "5749  0000-0001-9740-5490  https://servicio-renacyt.concytec.gob.pe/ficha...\n",
       "3308  0000-0002-8301-5536  https://servicio-renacyt.concytec.gob.pe/ficha...\n",
       "6842  0000-0002-8207-9714  https://servicio-renacyt.concytec.gob.pe/ficha...\n",
       "4765  0000-0002-9695-5746  https://servicio-renacyt.concytec.gob.pe/ficha...\n",
       "5968  0000-0003-3338-2503  https://servicio-renacyt.concytec.gob.pe/ficha...\n",
       "5004  0000-0003-2259-5327  https://servicio-renacyt.concytec.gob.pe/ficha...\n",
       "7204  0000-0002-8069-2101  https://servicio-renacyt.concytec.gob.pe/ficha...\n",
       "5917  0000-0001-5560-9241  https://servicio-renacyt.concytec.gob.pe/ficha..."
      ]
     },
     "execution_count": 3,
     "metadata": {},
     "output_type": "execute_result"
    }
   ],
   "source": [
    "######################\n",
    "## D. Leer los jsons\n",
    "######################\n",
    "\n",
    "# 1. Leer los jsons y guardarlos en un dataframe\n",
    "df_renacyt= pd.read_parquet(os.path.join(os.getcwd(),'outputs','parquets','renacyt.parquet'))\n",
    "df_renacyt = df_renacyt[df_renacyt['ctiVitae'].notnull()]\n",
    "df_renacyt = df_renacyt[df_renacyt['ctiVitae'] != 'nan']\n",
    "df_renacyt = df_renacyt[df_renacyt['ctiVitae'] != 'None']\n",
    "df_renacyt = df_renacyt[df_renacyt['ctiVitae'] != '']\n",
    "df_renacyt['ctiVitae'] = df_renacyt['ctiVitae'].astype(str)\n",
    "df_renacyt.drop_duplicates(subset=['ctiVitae'], inplace=True)\n",
    "df_renacyt = df_renacyt.astype(str)\n",
    "\n",
    "# 2. Seleccionar la columna ctiVitae y crear otra columna con el url + ctiVitae\n",
    "df_renacyt = df_renacyt[['orcid','ctiVitae']]\n",
    "df_renacyt['url'] = 'https://servicio-renacyt.concytec.gob.pe/ficha-renacyt/?idInvestigador=' + df_renacyt['ctiVitae']\n",
    "df_renacyt = df_renacyt[['orcid','url']]\n",
    "\n",
    "df_renacyt = df_renacyt.head(10)\n",
    "df_renacyt"
   ]
  },
  {
   "cell_type": "code",
   "execution_count": 4,
   "metadata": {},
   "outputs": [
    {
     "name": "stdout",
     "output_type": "stream",
     "text": [
      "Se inicia el servidor en Mac o Linux\n",
      "Usando el chromedriver_path: /Users/nahumfg/Projects/GitHubProjects/RenacytScraper/chromedriver/darwin/chromedriver\n",
      "1. https://servicio-renacyt.concytec.gob.pe/ficha-renacyt/?idInvestigador=10\n",
      "2. https://servicio-renacyt.concytec.gob.pe/ficha-renacyt/?idInvestigador=13\n",
      "3. https://servicio-renacyt.concytec.gob.pe/ficha-renacyt/?idInvestigador=16\n",
      "4. https://servicio-renacyt.concytec.gob.pe/ficha-renacyt/?idInvestigador=17\n",
      "5. https://servicio-renacyt.concytec.gob.pe/ficha-renacyt/?idInvestigador=19\n",
      "6. https://servicio-renacyt.concytec.gob.pe/ficha-renacyt/?idInvestigador=21\n",
      "7. https://servicio-renacyt.concytec.gob.pe/ficha-renacyt/?idInvestigador=25\n",
      "8. https://servicio-renacyt.concytec.gob.pe/ficha-renacyt/?idInvestigador=26\n",
      "9. https://servicio-renacyt.concytec.gob.pe/ficha-renacyt/?idInvestigador=34\n",
      "10. https://servicio-renacyt.concytec.gob.pe/ficha-renacyt/?idInvestigador=43\n"
     ]
    }
   ],
   "source": [
    "######################\n",
    "## E. Ejecutar\n",
    "######################\n",
    "\n",
    "# 1. Iniciar el driver, el servidor proxy y el proxy\n",
    "driver, server, proxy = get_chrome_driver(chromedriver_path=CHROMEDRIVER_PATH, print_view=PRINT_VIEW, headless=HEADLESS)\n",
    "\n",
    "# 2. Iterar sobre las urls\n",
    "i = 0\n",
    "for orcid, url in df_renacyt.values.tolist(): \n",
    "    try:\n",
    "        # A. Iniciar har\n",
    "        start_har(proxy, 'renacyt_profile')\n",
    "        \n",
    "        # B. Ingresar a la url\n",
    "        driver.get(url)\n",
    "        wait = WebDriverWait(driver, 10)\n",
    "        wait.until(EC.presence_of_element_located((By.CLASS_NAME, \"elementor-widget-container\")))\n",
    "        print(f'{i+1}. {url}')\n",
    "\n",
    "        # C. Obtener el har\n",
    "        time.sleep(3)\n",
    "        har = proxy.har\n",
    "\n",
    "        # D. Guardar el har\n",
    "        for entrie in har.get('log').get('entries'):\n",
    "            if '\"formacionesAcademicas\"' in str(entrie):\n",
    "                string_content = entrie.get('response').get('content').get('text')\n",
    "                data_list = json.loads(string_content)\n",
    "                with open(os.path.join(os.getcwd(),'outputs','jsons'\n",
    "                                       ,'renacyt_profile','renacyt_profile_' \n",
    "                                       + str(i).zfill(2) \n",
    "                                       + '_'+ orcid +'_.json'), 'w') as json_file:\n",
    "                    json.dump(data_list, json_file, indent=4)\n",
    "                \n",
    "        # E. Actualizar el contador\n",
    "        i += 1\n",
    "    except:\n",
    "        pass"
   ]
  },
  {
   "cell_type": "code",
   "execution_count": 5,
   "metadata": {},
   "outputs": [
    {
     "name": "stdout",
     "output_type": "stream",
     "text": [
      "Se eliminaron los archivos bmp.log y server.log\n"
     ]
    }
   ],
   "source": [
    "stop_chrome_driver(driver, server, proxy)\n",
    "\n",
    "# Eliminar los archivos bmp.log y server.log\n",
    "try:\n",
    "    os.remove('bmp.log')\n",
    "    os.remove('server.log')\n",
    "    print(\"Se eliminaron los archivos bmp.log y server.log\")\n",
    "except:\n",
    "    pass"
   ]
  },
  {
   "cell_type": "code",
   "execution_count": null,
   "metadata": {},
   "outputs": [],
   "source": []
  }
 ],
 "metadata": {
  "kernelspec": {
   "display_name": "my_env",
   "language": "python",
   "name": "python3"
  },
  "language_info": {
   "codemirror_mode": {
    "name": "ipython",
    "version": 3
   },
   "file_extension": ".py",
   "mimetype": "text/x-python",
   "name": "python",
   "nbconvert_exporter": "python",
   "pygments_lexer": "ipython3",
   "version": "3.9.6"
  }
 },
 "nbformat": 4,
 "nbformat_minor": 2
}
