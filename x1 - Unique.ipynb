{
 "cells": [
  {
   "cell_type": "code",
   "execution_count": 1,
   "metadata": {},
   "outputs": [],
   "source": [
    "import os\n",
    "import datetime\n",
    "import numpy as np\n",
    "import pandas as pd\n",
    "import seaborn as sns"
   ]
  },
  {
   "cell_type": "code",
   "execution_count": 2,
   "metadata": {},
   "outputs": [],
   "source": [
    "def get_files(path, extension):\n",
    "    dir_name  = os.path.join(os.getcwd(), path)\n",
    "    files     = os.listdir(dir_name)\n",
    "    \n",
    "    paths    = []\n",
    "    for file in files:\n",
    "        if extension in file:\n",
    "            paths.append(os.path.join(path,file))\n",
    "\n",
    "    return paths"
   ]
  },
  {
   "cell_type": "markdown",
   "metadata": {},
   "source": [
    "### 1. Unicos renacyt - datos investigador"
   ]
  },
  {
   "cell_type": "code",
   "execution_count": 3,
   "metadata": {},
   "outputs": [],
   "source": [
    "# Listar los elementos de originals\\renacyt\\perfil\\1_datos_investigador\n",
    "paths = get_files('originals\\\\renacyt\\\\perfil\\\\1_datos_investigador', '.json')\n",
    "\n",
    "# Crea un dataframe con los paths\n",
    "df = pd.DataFrame(paths, columns=['path'])\n",
    "\n",
    "# Agrega una columna usando path.split('\\\\')[-1]\n",
    "df['file'] = df['path'].apply(lambda x: x.split('\\\\')[-1])\n",
    "\n",
    "# Crea la columna orcid a partir de split de file\n",
    "df['cti_vitae'] = df['file'].apply(lambda x: x.split('_')[1])\n",
    "\n",
    "# Eliminar los duplicados de orcid y quedarse con el primero\n",
    "df = df.drop_duplicates(subset=['cti_vitae'], keep='first')\n",
    "\n",
    "# para cada path necesito copiar el archivo que está en el path a la carpeta originals\\renacyt\\perfil\\3_datos_investigador_unique\n",
    "for path in df['path']:\n",
    "    os.system(f'copy {path} originals\\\\renacyt\\\\perfil\\\\3_datos_investigador_unique')"
   ]
  },
  {
   "cell_type": "markdown",
   "metadata": {},
   "source": [
    "### Unicos orcid - perfil"
   ]
  },
  {
   "cell_type": "code",
   "execution_count": 4,
   "metadata": {},
   "outputs": [],
   "source": [
    "# Listar los elementos de originals\\orcid\\1_perfil\n",
    "paths = get_files('originals\\\\orcid\\\\1_perfil', '.json')\n",
    "\n",
    "# Crea un dataframe con los paths\n",
    "df = pd.DataFrame(paths, columns=['path'])\n",
    "\n",
    "# Agrega una columna usando path.split('\\\\')[-1]\n",
    "df['file'] = df['path'].apply(lambda x: x.split('\\\\')[-1])\n",
    "\n",
    "# Crea la columna orcid a partir de split de file\n",
    "df['orcid'] = df['file'].apply(lambda x: x.split('_')[-2])\n",
    "\n",
    "# Eliminar los duplicados de orcid y quedarse con el primero\n",
    "df = df.drop_duplicates(subset=['orcid'], keep='first')\n",
    "\n",
    "# para cada path necesito copiar el archivo que está en el path a la carpeta originals\\orcid\\3_perfil_unique\n",
    "for path in df['path']:\n",
    "    os.system(f'copy {path} originals\\\\orcid\\\\3_perfil_unique\\\\')"
   ]
  },
  {
   "cell_type": "markdown",
   "metadata": {},
   "source": [
    "### Unicos orcid - publicaciones"
   ]
  },
  {
   "cell_type": "code",
   "execution_count": 5,
   "metadata": {},
   "outputs": [],
   "source": [
    "# Listar los elementos de originals\\orcid\\3_publicaciones\n",
    "paths = get_files('originals\\\\orcid\\\\3_publicaciones', '.json')\n",
    "\n",
    "# Crea un dataframe con los paths\n",
    "df = pd.DataFrame(paths, columns=['path'])\n",
    "\n",
    "# Agrega una columna usando path.split('\\\\')[-1]\n",
    "df['file'] = df['path'].apply(lambda x: x.split('\\\\')[-1])\n",
    "\n",
    "# Crea la columna orcid a partir de split de file\n",
    "df['orcid'] = df['file'].apply(lambda x: x.split('_')[-2])\n",
    "\n",
    "# Eliminar los duplicados de orcid y quedarse con el primero\n",
    "df = df.drop_duplicates(subset=['orcid'], keep='first')\n",
    "\n",
    "# para cada path necesito copiar el archivo que está en el path a la carpeta originals\\orcid\\5_publicaciones_unique\n",
    "for path in df['path']:\n",
    "    os.system(f'copy {path} originals\\\\orcid\\\\5_publicaciones_unique\\\\')"
   ]
  },
  {
   "cell_type": "code",
   "execution_count": null,
   "metadata": {},
   "outputs": [],
   "source": []
  },
  {
   "cell_type": "code",
   "execution_count": null,
   "metadata": {},
   "outputs": [],
   "source": []
  }
 ],
 "metadata": {
  "kernelspec": {
   "display_name": "my_env",
   "language": "python",
   "name": "python3"
  },
  "language_info": {
   "codemirror_mode": {
    "name": "ipython",
    "version": 3
   },
   "file_extension": ".py",
   "mimetype": "text/x-python",
   "name": "python",
   "nbconvert_exporter": "python",
   "pygments_lexer": "ipython3",
   "version": "3.8.7"
  }
 },
 "nbformat": 4,
 "nbformat_minor": 2
}
