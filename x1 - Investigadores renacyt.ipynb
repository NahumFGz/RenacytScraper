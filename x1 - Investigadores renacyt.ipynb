{
 "cells": [
  {
   "cell_type": "markdown",
   "metadata": {},
   "source": [
    "### Obtiene la lista de todos los investigadores que aparecen en la página de renacit"
   ]
  },
  {
   "cell_type": "code",
   "execution_count": 1,
   "metadata": {},
   "outputs": [
    {
     "name": "stdout",
     "output_type": "stream",
     "text": [
      "ESTAMOS EN --->  darwin\n",
      "PROJECT_PATH:  /Users/nahumfg/Projects/GitHubProjects/RenacytScraper\n",
      "CHROME_DRIVER_PATH:  /Users/nahumfg/Projects/GitHubProjects/RenacytScraper/chromedriver/darwin/chromedriver\n",
      "\n"
     ]
    }
   ],
   "source": [
    "####################################\n",
    "## A. Librerias\n",
    "####################################\n",
    "import os\n",
    "import time\n",
    "import json\n",
    "\n",
    "import pandas as pd\n",
    "\n",
    "from utils.utils import get_chrome_driver,stop_chrome_driver\n",
    "\n",
    "from utils.utils import TIME_SLEEP\n",
    "from utils.paths import CHROMEDRIVER_PATH, PROJECT_PATH\n",
    "\n",
    "\n",
    "####################################\n",
    "## B. Funciones\n",
    "####################################\n",
    "\n",
    "def get_files(path, extension):\n",
    "    dir_name  = os.path.join(os.getcwd(), path)\n",
    "    files     = os.listdir(dir_name)\n",
    "    \n",
    "    paths    = []\n",
    "    for file in files:\n",
    "        if extension in file:\n",
    "            paths.append(os.path.join(path,file))\n",
    "\n",
    "    return paths\n",
    "\n",
    "def start_har(proxy, name):\n",
    "    options = {\n",
    "        'captureHeaders': True, \n",
    "        'captureContent': True, \n",
    "        'captureBinaryContent': True, \n",
    "        'captureCookies': True, \n",
    "        'captureHeadersSize': -1, \n",
    "        'captureMaxSize': -1, \n",
    "        'captureBinaryContentMaxLength': -1 # Tamaño máximo del contenido binario\n",
    "    }\n",
    "    proxy.new_har(name, options=options)"
   ]
  },
  {
   "cell_type": "code",
   "execution_count": 2,
   "metadata": {},
   "outputs": [
    {
     "name": "stdout",
     "output_type": "stream",
     "text": [
      "Se eliminaron los archivos de la carpeta\n"
     ]
    }
   ],
   "source": [
    "########################\n",
    "## C. Ejecución\n",
    "########################\n",
    "\n",
    "# 1. Seleccionar modo\n",
    "HEADLESS = False\n",
    "PRINT_VIEW = False\n",
    "\n",
    "# 2. Eliminar todos los archivos de la carpeta\n",
    "try:\n",
    "    files = get_files(os.path.join(os.getcwd(),'originals','renacyt', 'investigadores'), '.')\n",
    "    for file in files:\n",
    "        os.remove(file)\n",
    "    print('Se eliminaron los archivos de la carpeta')\n",
    "except:\n",
    "    pass"
   ]
  },
  {
   "cell_type": "code",
   "execution_count": 3,
   "metadata": {},
   "outputs": [
    {
     "name": "stdout",
     "output_type": "stream",
     "text": [
      "Se inicia el servidor en Mac o Linux\n",
      "Usando el chromedriver_path: /Users/nahumfg/Projects/GitHubProjects/RenacytScraper/chromedriver/darwin/chromedriver\n"
     ]
    }
   ],
   "source": [
    "######################\n",
    "## D. Ejecución\n",
    "######################\n",
    "\n",
    "# 0. Definir los datos de la cuenta\n",
    "url = 'https://servicio-renacyt.concytec.gob.pe/busqueda-de-investigadores/'\n",
    "\n",
    "# 1. Iniciar el driver, el servidor proxy y el proxy\n",
    "driver, server, proxy = get_chrome_driver(chromedriver_path=CHROMEDRIVER_PATH, print_view=PRINT_VIEW, headless=HEADLESS)\n",
    "\n",
    "# 2. Iniciar har\n",
    "start_har(proxy, 'renacyt')\n",
    "\n",
    "# 3. Abrir la página\n",
    "driver.get(url)"
   ]
  },
  {
   "cell_type": "code",
   "execution_count": 4,
   "metadata": {},
   "outputs": [],
   "source": [
    "# 4. Obtener el .har y guardar los json\n",
    "time.sleep(TIME_SLEEP*2)\n",
    "har = proxy.har"
   ]
  },
  {
   "cell_type": "code",
   "execution_count": 5,
   "metadata": {},
   "outputs": [],
   "source": [
    "i = 0\n",
    "for entrie in har.get('log').get('entries'):\n",
    "    aux_entrie = str(entrie)\n",
    "\n",
    "    if '\"codigoRegistro\"' in aux_entrie and '\"institucionLaboralPrincipal\"' in aux_entrie:\n",
    "        string_content = entrie.get('response').get('content').get('text')\n",
    "        data_list = json.loads(string_content)\n",
    "        with open(os.path.join(os.getcwd(),'originals','renacyt','investigadores',str(i).zfill(2) + '.json'), 'w') as json_file:\n",
    "            json.dump(data_list, json_file, indent=4)\n",
    "        i += 1"
   ]
  },
  {
   "cell_type": "code",
   "execution_count": 6,
   "metadata": {},
   "outputs": [],
   "source": [
    "stop_chrome_driver(driver, server, proxy)"
   ]
  },
  {
   "cell_type": "code",
   "execution_count": 7,
   "metadata": {},
   "outputs": [
    {
     "name": "stdout",
     "output_type": "stream",
     "text": [
      "Se eliminaron los archivos bmp.log y server.log\n"
     ]
    }
   ],
   "source": [
    "# Eliminar los archivos bmp.log y server.log\n",
    "try:\n",
    "    os.remove('bmp.log')\n",
    "    os.remove('server.log')\n",
    "    print(\"Se eliminaron los archivos bmp.log y server.log\")\n",
    "except:\n",
    "    pass"
   ]
  },
  {
   "cell_type": "code",
   "execution_count": 8,
   "metadata": {},
   "outputs": [],
   "source": [
    "######################\n",
    "## E. Procesar Datos\n",
    "######################\n",
    "\n",
    "# 1. Leer los jsons y guardarlos en un dataframe\n",
    "paths = get_files(os.path.join(os.getcwd(),'originals','renacyt','investigadores'), '.json')\n",
    "df_renacyt = pd.concat([pd.read_json(path) for path in paths], axis=0)\n",
    "df_renacyt = df_renacyt.sort_values(by=['ctiVitae'])\n",
    "\n",
    "df_renacyt.to_parquet(os.path.join(os.getcwd(),'processed','parquet','lista_investigadores_renacyt.parquet'))\n",
    "df_renacyt.astype(str).to_excel(os.path.join(os.getcwd(),'processed','excel','lista_investigadores_renacyt.xlsx'), index=False)"
   ]
  },
  {
   "cell_type": "code",
   "execution_count": null,
   "metadata": {},
   "outputs": [],
   "source": []
  }
 ],
 "metadata": {
  "kernelspec": {
   "display_name": "my_env",
   "language": "python",
   "name": "python3"
  },
  "language_info": {
   "codemirror_mode": {
    "name": "ipython",
    "version": 3
   },
   "file_extension": ".py",
   "mimetype": "text/x-python",
   "name": "python",
   "nbconvert_exporter": "python",
   "pygments_lexer": "ipython3",
   "version": "3.9.6"
  }
 },
 "nbformat": 4,
 "nbformat_minor": 2
}
