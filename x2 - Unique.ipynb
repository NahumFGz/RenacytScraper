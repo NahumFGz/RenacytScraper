{
 "cells": [
  {
   "cell_type": "code",
   "execution_count": 20,
   "metadata": {},
   "outputs": [],
   "source": [
    "import os\n",
    "import datetime\n",
    "import numpy as np\n",
    "import pandas as pd\n",
    "import seaborn as sns"
   ]
  },
  {
   "cell_type": "code",
   "execution_count": 21,
   "metadata": {},
   "outputs": [],
   "source": [
    "def get_files(path, extension):\n",
    "    dir_name  = os.path.join(os.getcwd(), path)\n",
    "    files     = os.listdir(dir_name)\n",
    "    \n",
    "    paths    = []\n",
    "    for file in files:\n",
    "        if extension in file:\n",
    "            paths.append(os.path.join(path,file))\n",
    "\n",
    "    return paths"
   ]
  },
  {
   "cell_type": "markdown",
   "metadata": {},
   "source": [
    "### 1. Unicos renacyt - datos investigador"
   ]
  },
  {
   "cell_type": "code",
   "execution_count": 22,
   "metadata": {},
   "outputs": [
    {
     "data": {
      "text/html": [
       "<div>\n",
       "<style scoped>\n",
       "    .dataframe tbody tr th:only-of-type {\n",
       "        vertical-align: middle;\n",
       "    }\n",
       "\n",
       "    .dataframe tbody tr th {\n",
       "        vertical-align: top;\n",
       "    }\n",
       "\n",
       "    .dataframe thead th {\n",
       "        text-align: right;\n",
       "    }\n",
       "</style>\n",
       "<table border=\"1\" class=\"dataframe\">\n",
       "  <thead>\n",
       "    <tr style=\"text-align: right;\">\n",
       "      <th></th>\n",
       "      <th>path</th>\n",
       "      <th>file</th>\n",
       "      <th>cti_vitae</th>\n",
       "    </tr>\n",
       "  </thead>\n",
       "  <tbody>\n",
       "    <tr>\n",
       "      <th>0</th>\n",
       "      <td>originals\\renacyt\\perfil\\1_datos_investigador\\...</td>\n",
       "      <td>0x0_10_0000-0003-1583-7113_.json</td>\n",
       "      <td>10</td>\n",
       "    </tr>\n",
       "    <tr>\n",
       "      <th>1</th>\n",
       "      <td>originals\\renacyt\\perfil\\1_datos_investigador\\...</td>\n",
       "      <td>1000x0_10794_0000-0001-6274-3473_.json</td>\n",
       "      <td>10794</td>\n",
       "    </tr>\n",
       "    <tr>\n",
       "      <th>2</th>\n",
       "      <td>originals\\renacyt\\perfil\\1_datos_investigador\\...</td>\n",
       "      <td>1001x0_10806_0000-0003-2256-4088_.json</td>\n",
       "      <td>10806</td>\n",
       "    </tr>\n",
       "    <tr>\n",
       "      <th>3</th>\n",
       "      <td>originals\\renacyt\\perfil\\1_datos_investigador\\...</td>\n",
       "      <td>1002x0_10812_0000-0002-1066-6389_.json</td>\n",
       "      <td>10812</td>\n",
       "    </tr>\n",
       "    <tr>\n",
       "      <th>4</th>\n",
       "      <td>originals\\renacyt\\perfil\\1_datos_investigador\\...</td>\n",
       "      <td>1003x0_10814_0000-0002-1844-246X_.json</td>\n",
       "      <td>10814</td>\n",
       "    </tr>\n",
       "    <tr>\n",
       "      <th>...</th>\n",
       "      <td>...</td>\n",
       "      <td>...</td>\n",
       "      <td>...</td>\n",
       "    </tr>\n",
       "    <tr>\n",
       "      <th>7196</th>\n",
       "      <td>originals\\renacyt\\perfil\\1_datos_investigador\\...</td>\n",
       "      <td>997x0_10764_0000-0001-8234-8358_.json</td>\n",
       "      <td>10764</td>\n",
       "    </tr>\n",
       "    <tr>\n",
       "      <th>7197</th>\n",
       "      <td>originals\\renacyt\\perfil\\1_datos_investigador\\...</td>\n",
       "      <td>998x0_10772_0000-0001-8672-2490_.json</td>\n",
       "      <td>10772</td>\n",
       "    </tr>\n",
       "    <tr>\n",
       "      <th>7198</th>\n",
       "      <td>originals\\renacyt\\perfil\\1_datos_investigador\\...</td>\n",
       "      <td>999x0_10781_0009-0001-5177-1126_.json</td>\n",
       "      <td>10781</td>\n",
       "    </tr>\n",
       "    <tr>\n",
       "      <th>7199</th>\n",
       "      <td>originals\\renacyt\\perfil\\1_datos_investigador\\...</td>\n",
       "      <td>99x0_373_0000-0002-5290-0620_.json</td>\n",
       "      <td>373</td>\n",
       "    </tr>\n",
       "    <tr>\n",
       "      <th>7200</th>\n",
       "      <td>originals\\renacyt\\perfil\\1_datos_investigador\\...</td>\n",
       "      <td>9x0_43_0000-0001-5560-9241_.json</td>\n",
       "      <td>43</td>\n",
       "    </tr>\n",
       "  </tbody>\n",
       "</table>\n",
       "<p>7200 rows × 3 columns</p>\n",
       "</div>"
      ],
      "text/plain": [
       "                                                   path  \\\n",
       "0     originals\\renacyt\\perfil\\1_datos_investigador\\...   \n",
       "1     originals\\renacyt\\perfil\\1_datos_investigador\\...   \n",
       "2     originals\\renacyt\\perfil\\1_datos_investigador\\...   \n",
       "3     originals\\renacyt\\perfil\\1_datos_investigador\\...   \n",
       "4     originals\\renacyt\\perfil\\1_datos_investigador\\...   \n",
       "...                                                 ...   \n",
       "7196  originals\\renacyt\\perfil\\1_datos_investigador\\...   \n",
       "7197  originals\\renacyt\\perfil\\1_datos_investigador\\...   \n",
       "7198  originals\\renacyt\\perfil\\1_datos_investigador\\...   \n",
       "7199  originals\\renacyt\\perfil\\1_datos_investigador\\...   \n",
       "7200  originals\\renacyt\\perfil\\1_datos_investigador\\...   \n",
       "\n",
       "                                        file cti_vitae  \n",
       "0           0x0_10_0000-0003-1583-7113_.json        10  \n",
       "1     1000x0_10794_0000-0001-6274-3473_.json     10794  \n",
       "2     1001x0_10806_0000-0003-2256-4088_.json     10806  \n",
       "3     1002x0_10812_0000-0002-1066-6389_.json     10812  \n",
       "4     1003x0_10814_0000-0002-1844-246X_.json     10814  \n",
       "...                                      ...       ...  \n",
       "7196   997x0_10764_0000-0001-8234-8358_.json     10764  \n",
       "7197   998x0_10772_0000-0001-8672-2490_.json     10772  \n",
       "7198   999x0_10781_0009-0001-5177-1126_.json     10781  \n",
       "7199      99x0_373_0000-0002-5290-0620_.json       373  \n",
       "7200        9x0_43_0000-0001-5560-9241_.json        43  \n",
       "\n",
       "[7200 rows x 3 columns]"
      ]
     },
     "execution_count": 22,
     "metadata": {},
     "output_type": "execute_result"
    }
   ],
   "source": [
    "# Listar los elementos de originals\\renacyt\\perfil\\1_datos_investigador\n",
    "paths = get_files('originals\\\\renacyt\\\\perfil\\\\1_datos_investigador', '.json')\n",
    "\n",
    "# Crea un dataframe con los paths\n",
    "df = pd.DataFrame(paths, columns=['path'])\n",
    "\n",
    "# Agrega una columna usando path.split('\\\\')[-1]\n",
    "df['file'] = df['path'].apply(lambda x: x.split('\\\\')[-1])\n",
    "\n",
    "# Crea la columna orcid a partir de split de file\n",
    "df['cti_vitae'] = df['file'].apply(lambda x: x.split('_')[1])\n",
    "\n",
    "# Eliminar los duplicados de orcid y quedarse con el primero\n",
    "df = df.drop_duplicates(subset=['cti_vitae'], keep='first')\n",
    "\n",
    "# para cada path necesito copiar el archivo que está en el path a la carpeta originals\\renacyt\\perfil\\3_datos_investigador_unique\n",
    "for path in df['path']:\n",
    "    os.system(f'copy {path} originals\\renacyt\\perfil\\3_datos_investigador_unique')"
   ]
  },
  {
   "cell_type": "markdown",
   "metadata": {},
   "source": [
    "### Unicos orcid - perfil"
   ]
  },
  {
   "cell_type": "code",
   "execution_count": 23,
   "metadata": {},
   "outputs": [
    {
     "ename": "KeyboardInterrupt",
     "evalue": "",
     "output_type": "error",
     "traceback": [
      "\u001b[1;31m---------------------------------------------------------------------------\u001b[0m",
      "\u001b[1;31mKeyboardInterrupt\u001b[0m                         Traceback (most recent call last)",
      "\u001b[1;32mc:\\GitHubProjets\\RenacytScraper\\x2 - Unique.ipynb Celda 6\u001b[0m line \u001b[0;36m1\n\u001b[0;32m     <a href='vscode-notebook-cell:/c%3A/GitHubProjets/RenacytScraper/x2%20-%20Unique.ipynb#X16sZmlsZQ%3D%3D?line=15'>16</a>\u001b[0m \u001b[39m# para cada path necesito copiar el archivo que está en el path a la carpeta originals\\orcid\\3_perfil_unique\u001b[39;00m\n\u001b[0;32m     <a href='vscode-notebook-cell:/c%3A/GitHubProjets/RenacytScraper/x2%20-%20Unique.ipynb#X16sZmlsZQ%3D%3D?line=16'>17</a>\u001b[0m \u001b[39mfor\u001b[39;00m path \u001b[39min\u001b[39;00m df[\u001b[39m'\u001b[39m\u001b[39mpath\u001b[39m\u001b[39m'\u001b[39m]:\n\u001b[1;32m---> <a href='vscode-notebook-cell:/c%3A/GitHubProjets/RenacytScraper/x2%20-%20Unique.ipynb#X16sZmlsZQ%3D%3D?line=17'>18</a>\u001b[0m     os\u001b[39m.\u001b[39;49msystem(\u001b[39mf\u001b[39;49m\u001b[39m'\u001b[39;49m\u001b[39mcopy \u001b[39;49m\u001b[39m{\u001b[39;49;00mpath\u001b[39m}\u001b[39;49;00m\u001b[39m originals\u001b[39;49m\u001b[39m\\\\\u001b[39;49;00m\u001b[39morcid\u001b[39;49m\u001b[39m\\\\\u001b[39;49;00m\u001b[39m3_perfil_unique\u001b[39;49m\u001b[39m\\\\\u001b[39;49;00m\u001b[39m'\u001b[39;49m)\n",
      "\u001b[1;31mKeyboardInterrupt\u001b[0m: "
     ]
    }
   ],
   "source": [
    "# Listar los elementos de originals\\orcid\\1_perfil\n",
    "paths = get_files('originals\\\\orcid\\\\1_perfil', '.json')\n",
    "\n",
    "# Crea un dataframe con los paths\n",
    "df = pd.DataFrame(paths, columns=['path'])\n",
    "\n",
    "# Agrega una columna usando path.split('\\\\')[-1]\n",
    "df['file'] = df['path'].apply(lambda x: x.split('\\\\')[-1])\n",
    "\n",
    "# Crea la columna orcid a partir de split de file\n",
    "df['orcid'] = df['file'].apply(lambda x: x.split('_')[-2])\n",
    "\n",
    "# Eliminar los duplicados de orcid y quedarse con el primero\n",
    "df = df.drop_duplicates(subset=['orcid'], keep='first')\n",
    "\n",
    "# para cada path necesito copiar el archivo que está en el path a la carpeta originals\\orcid\\3_perfil_unique\n",
    "for path in df['path']:\n",
    "    os.system(f'copy {path} originals\\\\orcid\\\\3_perfil_unique\\\\')"
   ]
  },
  {
   "cell_type": "markdown",
   "metadata": {},
   "source": [
    "### Unicos orcid - publicaciones"
   ]
  },
  {
   "cell_type": "code",
   "execution_count": null,
   "metadata": {},
   "outputs": [],
   "source": [
    "# Listar los elementos de originals\\orcid\\3_publicaciones\n",
    "paths = get_files('originals\\\\orcid\\\\3_publicaciones', '.json')\n",
    "\n",
    "# Crea un dataframe con los paths\n",
    "df = pd.DataFrame(paths, columns=['path'])\n",
    "\n",
    "# Agrega una columna usando path.split('\\\\')[-1]\n",
    "df['file'] = df['path'].apply(lambda x: x.split('\\\\')[-1])\n",
    "\n",
    "# Crea la columna orcid a partir de split de file\n",
    "df['orcid'] = df['file'].apply(lambda x: x.split('_')[-2])\n",
    "\n",
    "# Eliminar los duplicados de orcid y quedarse con el primero\n",
    "df = df.drop_duplicates(subset=['orcid'], keep='first')\n",
    "\n",
    "# para cada path necesito copiar el archivo que está en el path a la carpeta originals\\orcid\\5_publicaciones_unique\n",
    "for path in df['path']:\n",
    "    os.system(f'copy {path} originals\\\\orcid\\\\5_publicaciones_unique\\\\')"
   ]
  },
  {
   "cell_type": "code",
   "execution_count": null,
   "metadata": {},
   "outputs": [],
   "source": []
  }
 ],
 "metadata": {
  "kernelspec": {
   "display_name": "my_env",
   "language": "python",
   "name": "python3"
  },
  "language_info": {
   "codemirror_mode": {
    "name": "ipython",
    "version": 3
   },
   "file_extension": ".py",
   "mimetype": "text/x-python",
   "name": "python",
   "nbconvert_exporter": "python",
   "pygments_lexer": "ipython3",
   "version": "3.8.7"
  }
 },
 "nbformat": 4,
 "nbformat_minor": 2
}
